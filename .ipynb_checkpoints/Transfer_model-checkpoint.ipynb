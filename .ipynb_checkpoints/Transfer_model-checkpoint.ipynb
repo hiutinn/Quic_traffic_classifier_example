{
 "cells": [
  {
   "cell_type": "code",
   "execution_count": null,
   "id": "26b51fc0-4dd1-4cd3-8a1b-5a5115f6f32d",
   "metadata": {},
   "outputs": [],
   "source": [
    "%store -r model"
   ]
  },
  {
   "cell_type": "code",
   "execution_count": null,
   "id": "115d7772-beb0-4542-821e-b4eef09e5855",
   "metadata": {},
   "outputs": [],
   "source": [
    "from tensorflow.keras.models import Model\n",
    "\n",
    "# Loại bỏ lớp cuối cùng của mô hình gốc\n",
    "base_model = Model(inputs=model.input, outputs=model.layers[-2].output)\n",
    "\n",
    "# Tạo mô hình mới với các lớp của mô hình gốc (trừ lớp cuối cùng)\n",
    "new_model = Sequential()\n",
    "new_model.add(base_model)\n",
    "\n",
    "# Thêm lớp phân loại mới với số lớp đầu ra phù hợp với nhiệm vụ của bạn\n",
    "new_model.add(layers.Dense(5, activation='softmax'))\n",
    "\n",
    "# In thông tin mô hình mới\n",
    "new_model.summary()\n",
    "\n",
    "# Biên dịch mô hình mới\n",
    "new_model.compile(optimizer='adam', loss='sparse_categorical_crossentropy', metrics=['accuracy'])\n"
   ]
  },
  {
   "cell_type": "code",
   "execution_count": null,
   "id": "5f8e266d-55af-4c36-aac5-434d2b2fda9a",
   "metadata": {},
   "outputs": [],
   "source": [
    "new_model.fit(X, y, epochs=10, batch_size=16)"
   ]
  }
 ],
 "metadata": {
  "kernelspec": {
   "display_name": "Python 3 (ipykernel)",
   "language": "python",
   "name": "python3"
  },
  "language_info": {
   "codemirror_mode": {
    "name": "ipython",
    "version": 3
   },
   "file_extension": ".py",
   "mimetype": "text/x-python",
   "name": "python",
   "nbconvert_exporter": "python",
   "pygments_lexer": "ipython3",
   "version": "3.11.4"
  }
 },
 "nbformat": 4,
 "nbformat_minor": 5
}
