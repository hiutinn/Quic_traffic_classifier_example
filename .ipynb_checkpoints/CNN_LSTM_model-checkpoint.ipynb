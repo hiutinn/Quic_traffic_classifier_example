{
 "cells": [
  {
   "cell_type": "markdown",
   "id": "02c50341-7df2-4251-b020-aecd6526029c",
   "metadata": {},
   "source": [
    "# Import thư viện"
   ]
  },
  {
   "cell_type": "code",
   "execution_count": 4,
   "id": "3b553912-a451-4886-939c-440fba4beee7",
   "metadata": {
    "tags": []
   },
   "outputs": [
    {
     "name": "stdout",
     "output_type": "stream",
     "text": [
      "^C\n",
      "Note: you may need to restart the kernel to use updated packages.\n"
     ]
    }
   ],
   "source": [
    "pip install tensorflow"
   ]
  },
  {
   "cell_type": "code",
   "execution_count": 1,
   "id": "6e391bae-f81f-462c-ab4d-7d5f34bc79ec",
   "metadata": {},
   "outputs": [
    {
     "ename": "ModuleNotFoundError",
     "evalue": "No module named 'tensorflow'",
     "output_type": "error",
     "traceback": [
      "\u001b[1;31m---------------------------------------------------------------------------\u001b[0m",
      "\u001b[1;31mModuleNotFoundError\u001b[0m                       Traceback (most recent call last)",
      "Cell \u001b[1;32mIn[1], line 2\u001b[0m\n\u001b[0;32m      1\u001b[0m \u001b[38;5;28;01mimport\u001b[39;00m \u001b[38;5;21;01mnumpy\u001b[39;00m \u001b[38;5;28;01mas\u001b[39;00m \u001b[38;5;21;01mnp\u001b[39;00m\n\u001b[1;32m----> 2\u001b[0m \u001b[38;5;28;01mimport\u001b[39;00m \u001b[38;5;21;01mtensorflow\u001b[39;00m \u001b[38;5;28;01mas\u001b[39;00m \u001b[38;5;21;01mtf\u001b[39;00m\n\u001b[0;32m      3\u001b[0m \u001b[38;5;28;01mfrom\u001b[39;00m \u001b[38;5;21;01mtensorflow\u001b[39;00m\u001b[38;5;21;01m.\u001b[39;00m\u001b[38;5;21;01mkeras\u001b[39;00m\u001b[38;5;21;01m.\u001b[39;00m\u001b[38;5;21;01mmodels\u001b[39;00m \u001b[38;5;28;01mimport\u001b[39;00m Sequential\n\u001b[0;32m      4\u001b[0m \u001b[38;5;28;01mfrom\u001b[39;00m \u001b[38;5;21;01mtensorflow\u001b[39;00m\u001b[38;5;21;01m.\u001b[39;00m\u001b[38;5;21;01mkeras\u001b[39;00m\u001b[38;5;21;01m.\u001b[39;00m\u001b[38;5;21;01mlayers\u001b[39;00m \u001b[38;5;28;01mimport\u001b[39;00m Conv1D, MaxPooling1D, LSTM, Dense, Flatten, Reshape\n",
      "\u001b[1;31mModuleNotFoundError\u001b[0m: No module named 'tensorflow'"
     ]
    }
   ],
   "source": [
    "import numpy as np\n",
    "import tensorflow as tf\n",
    "from tensorflow.keras.models import Sequential\n",
    "from tensorflow.keras.layers import Conv1D, MaxPooling1D, LSTM, Dense, Flatten, Reshape"
   ]
  },
  {
   "cell_type": "markdown",
   "id": "0c028d9a-621a-4d7c-bae2-1166c664919f",
   "metadata": {},
   "source": [
    "# Đọc các biến từ file 128.ipynb"
   ]
  },
  {
   "cell_type": "code",
   "execution_count": null,
   "id": "28c59b36-b4fc-4af9-ac51-291df7d4b454",
   "metadata": {},
   "outputs": [],
   "source": [
    "%store -r X\n",
    "%store -r y\n",
    "%store -r X_test\n",
    "%store -r y_test"
   ]
  },
  {
   "cell_type": "markdown",
   "id": "70be945b-054f-4add-b89f-6ff75d2bcf92",
   "metadata": {},
   "source": [
    "# Xây dựng mô hình"
   ]
  },
  {
   "cell_type": "code",
   "execution_count": null,
   "id": "77d9947e-6398-4124-bc50-95a9b343744a",
   "metadata": {
    "tags": []
   },
   "outputs": [],
   "source": [
    "# Xây dựng mô hình\n",
    "model = Sequential()\n",
    "\n",
    "# Layer Convolutional (CNN)\n",
    "model.add(Conv1D(32, kernel_size=(5), activation='relu', input_shape=(20, 128), padding='same'))\n",
    "model.add(MaxPooling1D(pool_size=(2)))\n",
    "\n",
    "# Layer LSTM\n",
    "model.add(LSTM(64, activation='relu'))\n",
    "\n",
    "# Thêm lớp Flatten để làm phẳng đầu ra của lớp trước khi đi vào các lớp fully connected\n",
    "model.add(Flatten())\n",
    "\n",
    "# Thêm lớp fully connected (Dense Layer) với 64 units và hàm kích hoạt ReLU\n",
    "model.add(Dense(32, activation='relu'))\n",
    "\n",
    "# Lớp Dense (có thể thay đổi theo bài toán cụ thể)\n",
    "model.add(Dense(5, activation='softmax'))\n",
    "\n",
    "# In thông tin mô hình\n",
    "model.summary()"
   ]
  },
  {
   "cell_type": "markdown",
   "id": "c48a702b-de55-4bf5-bb05-00a18048cbc5",
   "metadata": {},
   "source": [
    "# Biên dịch và huấn luyện mô hình"
   ]
  },
  {
   "cell_type": "code",
   "execution_count": null,
   "id": "852ee229-a369-491a-9da4-f551ad794dcf",
   "metadata": {},
   "outputs": [],
   "source": [
    "model.compile(optimizer='adam', loss='sparse_categorical_crossentropy', metrics=['accuracy'])\n",
    "model.fit(X, y, epochs=10, batch_size=16)"
   ]
  },
  {
   "cell_type": "markdown",
   "id": "b902753f-50a1-4489-8d03-81dd72ce1463",
   "metadata": {},
   "source": [
    "# Đánh giá mô hình"
   ]
  },
  {
   "cell_type": "code",
   "execution_count": null,
   "id": "8c81fdf4-bf78-4fc3-a492-fc124bd904c7",
   "metadata": {
    "tags": []
   },
   "outputs": [],
   "source": [
    "# Đánh giá mô hình trên tập kiểm tra\n",
    "test_loss, test_accuracy = model.evaluate(X_test, y_test)\n",
    "print(\"Độ chính xác trên tập kiểm tra:\", test_accuracy)\n",
    "\n",
    "# Dự đoán các nhãn trên tập kiểm tra\n",
    "y_pred = model.predict(X_test)\n",
    "\n",
    "# Chuyển đổi dự đoán thành nhãn dự đoán (lớp dự đoán)\n",
    "y_pred_classes = np.argmax(y_pred, axis=1)\n",
    "\n",
    "# Hiển thị ma trận nhầm lẫn\n",
    "from sklearn.metrics import confusion_matrix, classification_report\n",
    "confusion = confusion_matrix(y_test, y_pred_classes)\n",
    "print(\"Ma trận nhầm lẫn:\")\n",
    "print(confusion)\n",
    "\n",
    "# Hiển thị báo cáo phân loại\n",
    "class_report = classification_report(y_test, y_pred_classes)\n",
    "print(\"Báo cáo phân loại:\")\n",
    "print(class_report)"
   ]
  },
  {
   "cell_type": "code",
   "execution_count": null,
   "id": "b29a6f2e-8fd3-485a-b02f-9d12e20463ad",
   "metadata": {},
   "outputs": [],
   "source": [
    "CNN_LSTM = model\n",
    "%store CNN_LSTM"
   ]
  }
 ],
 "metadata": {
  "kernelspec": {
   "display_name": "Python 3 (ipykernel)",
   "language": "python",
   "name": "python3"
  },
  "language_info": {
   "codemirror_mode": {
    "name": "ipython",
    "version": 3
   },
   "file_extension": ".py",
   "mimetype": "text/x-python",
   "name": "python",
   "nbconvert_exporter": "python",
   "pygments_lexer": "ipython3",
   "version": "3.11.5"
  }
 },
 "nbformat": 4,
 "nbformat_minor": 5
}
