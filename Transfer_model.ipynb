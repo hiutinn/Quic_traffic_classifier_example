{
 "cells": [
  {
   "cell_type": "code",
   "execution_count": 1,
   "id": "bbbedc7b-7e18-4998-9871-00141ec1b70c",
   "metadata": {},
   "outputs": [],
   "source": [
    "import tensorflow as tf\n",
    "from tensorflow import keras\n",
    "from tensorflow.keras import layers"
   ]
  },
  {
   "cell_type": "code",
   "execution_count": 2,
   "id": "26b51fc0-4dd1-4cd3-8a1b-5a5115f6f32d",
   "metadata": {},
   "outputs": [],
   "source": [
    "%store -r model\n",
    "%store -r X\n",
    "%store -r y\n",
    "%store -r X_test\n",
    "%store -r y_test\n",
    "%store -r CNN_LSTM_model"
   ]
  },
  {
   "cell_type": "code",
   "execution_count": 3,
   "id": "115d7772-beb0-4542-821e-b4eef09e5855",
   "metadata": {},
   "outputs": [
    {
     "name": "stdout",
     "output_type": "stream",
     "text": [
      "Model: \"sequential\"\n",
      "_________________________________________________________________\n",
      " Layer (type)                Output Shape              Param #   \n",
      "=================================================================\n",
      " conv1d (Conv1D)             (None, 20, 32)            20512     \n",
      "                                                                 \n",
      " max_pooling1d (MaxPooling1  (None, 10, 32)            0         \n",
      " D)                                                              \n",
      "                                                                 \n",
      " lstm (LSTM)                 (None, 64)                24832     \n",
      "                                                                 \n",
      " flatten (Flatten)           (None, 64)                0         \n",
      "                                                                 \n",
      " dense (Dense)               (None, 32)                2080      \n",
      "                                                                 \n",
      " new_dense_layer (Dense)     (None, 5)                 165       \n",
      "                                                                 \n",
      "=================================================================\n",
      "Total params: 47589 (185.89 KB)\n",
      "Trainable params: 165 (660.00 Byte)\n",
      "Non-trainable params: 47424 (185.25 KB)\n",
      "_________________________________________________________________\n"
     ]
    }
   ],
   "source": [
    "from tensorflow.keras.models import Model\n",
    "\n",
    "pretrained_model = CNN_LSTM_model\n",
    "# Xóa lớp cuối cùng của mô hình đã được huấn luyện trước đó\n",
    "pretrained_model.pop()\n",
    "\n",
    "# Thêm lớp fully connected (Dense Layer) cuối cùng với số lớp phân loại mới\n",
    "num_new_classes = 5  # Số lớp ứng dụng mới cần phân loại\n",
    "pretrained_model.add(keras.layers.Dense(num_new_classes, activation='softmax', name='new_dense_layer'))\n",
    "\n",
    "# Đóng băng trọng số của các lớp trong mô hình đã được huấn luyện trước đó\n",
    "for layer in pretrained_model.layers[:-1]:\n",
    "    layer.trainable = False\n",
    "\n",
    "# In thông tin mô hình mới\n",
    "pretrained_model.summary()\n",
    "\n",
    "# Biên dịch mô hình mới\n",
    "pretrained_model.compile(optimizer='adam', loss='sparse_categorical_crossentropy', metrics=['accuracy'])"
   ]
  },
  {
   "cell_type": "code",
   "execution_count": 4,
   "id": "5f8e266d-55af-4c36-aac5-434d2b2fda9a",
   "metadata": {},
   "outputs": [
    {
     "name": "stdout",
     "output_type": "stream",
     "text": [
      "Epoch 1/10\n",
      "823/823 [==============================] - 5s 4ms/step - loss: 0.9481 - accuracy: 0.7633\n",
      "Epoch 2/10\n",
      "823/823 [==============================] - 3s 4ms/step - loss: 0.3888 - accuracy: 0.8680\n",
      "Epoch 3/10\n",
      "823/823 [==============================] - 3s 4ms/step - loss: 0.3565 - accuracy: 0.8750\n",
      "Epoch 4/10\n",
      "823/823 [==============================] - 3s 4ms/step - loss: 0.3377 - accuracy: 0.8795\n",
      "Epoch 5/10\n",
      "823/823 [==============================] - 3s 4ms/step - loss: 0.3266 - accuracy: 0.8818\n",
      "Epoch 6/10\n",
      "823/823 [==============================] - 3s 4ms/step - loss: 0.3246 - accuracy: 0.8833\n",
      "Epoch 7/10\n",
      "823/823 [==============================] - 3s 4ms/step - loss: 0.3119 - accuracy: 0.8860\n",
      "Epoch 8/10\n",
      "823/823 [==============================] - 3s 4ms/step - loss: 0.3047 - accuracy: 0.8862\n",
      "Epoch 9/10\n",
      "823/823 [==============================] - 3s 4ms/step - loss: 0.3031 - accuracy: 0.8873\n",
      "Epoch 10/10\n",
      "823/823 [==============================] - 3s 4ms/step - loss: 0.3005 - accuracy: 0.8880\n"
     ]
    },
    {
     "data": {
      "text/plain": [
       "<keras.src.callbacks.History at 0x1f4d986eed0>"
      ]
     },
     "execution_count": 4,
     "metadata": {},
     "output_type": "execute_result"
    }
   ],
   "source": [
    "pretrained_model.fit(X, y, epochs=10, batch_size=16)"
   ]
  },
  {
   "cell_type": "code",
   "execution_count": 5,
   "id": "175111c1-fdd8-4f01-bca1-51208d8684e8",
   "metadata": {
    "tags": []
   },
   "outputs": [
    {
     "name": "stdout",
     "output_type": "stream",
     "text": [
      "412/412 [==============================] - 2s 5ms/step - loss: 0.2954 - accuracy: 0.8922\n",
      "Độ chính xác trên tập kiểm tra: 0.8922224044799805\n",
      "412/412 [==============================] - 2s 4ms/step\n",
      "Ma trận nhầm lẫn:\n",
      "[[2842    0    0    0    0]\n",
      " [   0 1714    2   50  268]\n",
      " [   0    0 2475    2  331]\n",
      " [   0   94    2 1574   70]\n",
      " [   0  166  421   13 3142]]\n",
      "Báo cáo phân loại:\n",
      "              precision    recall  f1-score   support\n",
      "\n",
      "           0       1.00      1.00      1.00      2842\n",
      "           1       0.87      0.84      0.86      2034\n",
      "           2       0.85      0.88      0.87      2808\n",
      "           3       0.96      0.90      0.93      1740\n",
      "           4       0.82      0.84      0.83      3742\n",
      "\n",
      "    accuracy                           0.89     13166\n",
      "   macro avg       0.90      0.89      0.90     13166\n",
      "weighted avg       0.89      0.89      0.89     13166\n",
      "\n"
     ]
    }
   ],
   "source": [
    "import numpy as np\n",
    "\n",
    "# Đánh giá mô hình trên tập kiểm tra\n",
    "test_loss, test_accuracy = pretrained_model.evaluate(X_test, y_test)\n",
    "print(\"Độ chính xác trên tập kiểm tra:\", test_accuracy)\n",
    "\n",
    "# Dự đoán các nhãn trên tập kiểm tra\n",
    "y_pred = pretrained_model.predict(X_test)\n",
    "\n",
    "# Chuyển đổi dự đoán thành nhãn dự đoán (lớp dự đoán)\n",
    "y_pred_classes = np.argmax(y_pred, axis=1)\n",
    "\n",
    "# Hiển thị ma trận nhầm lẫn\n",
    "from sklearn.metrics import confusion_matrix, classification_report\n",
    "confusion = confusion_matrix(y_test, y_pred_classes)\n",
    "print(\"Ma trận nhầm lẫn:\")\n",
    "print(confusion)\n",
    "\n",
    "# Hiển thị báo cáo phân loại\n",
    "class_report = classification_report(y_test, y_pred_classes)\n",
    "print(\"Báo cáo phân loại:\")\n",
    "print(class_report)"
   ]
  },
  {
   "cell_type": "code",
   "execution_count": null,
   "id": "3fd437b2-824c-4887-bc4d-16164cdc2412",
   "metadata": {},
   "outputs": [],
   "source": []
  }
 ],
 "metadata": {
  "kernelspec": {
   "display_name": "Python 3 (ipykernel)",
   "language": "python",
   "name": "python3"
  },
  "language_info": {
   "codemirror_mode": {
    "name": "ipython",
    "version": 3
   },
   "file_extension": ".py",
   "mimetype": "text/x-python",
   "name": "python",
   "nbconvert_exporter": "python",
   "pygments_lexer": "ipython3",
   "version": "3.11.5"
  }
 },
 "nbformat": 4,
 "nbformat_minor": 5
}
