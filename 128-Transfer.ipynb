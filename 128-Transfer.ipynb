{
 "cells": [
  {
   "cell_type": "markdown",
   "id": "a128e12a-4ead-4d13-b06c-fef7c68e0008",
   "metadata": {},
   "source": [
    "# Đọc file train"
   ]
  },
  {
   "cell_type": "code",
   "execution_count": 1,
   "id": "8874aa8a-ee70-45e3-8590-1b394c9567db",
   "metadata": {
    "tags": []
   },
   "outputs": [],
   "source": [
    "import pandas as pd\n",
    "import numpy as np\n",
    "\n",
    "# Đường dẫn đến file feather cần đọc\n",
    "file_path = 'D:/GQUIC_small/dataset1/Train/train_128.feather'\n",
    "\n",
    "# Đọc file feather\n",
    "df = pd.read_feather(file_path)"
   ]
  },
  {
   "cell_type": "code",
   "execution_count": 2,
   "id": "e202f6af-150c-4ee4-aa28-2468bc95ec27",
   "metadata": {
    "tags": []
   },
   "outputs": [
    {
     "data": {
      "text/html": [
       "<div>\n",
       "<style scoped>\n",
       "    .dataframe tbody tr th:only-of-type {\n",
       "        vertical-align: middle;\n",
       "    }\n",
       "\n",
       "    .dataframe tbody tr th {\n",
       "        vertical-align: top;\n",
       "    }\n",
       "\n",
       "    .dataframe thead th {\n",
       "        text-align: right;\n",
       "    }\n",
       "</style>\n",
       "<table border=\"1\" class=\"dataframe\">\n",
       "  <thead>\n",
       "    <tr style=\"text-align: right;\">\n",
       "      <th></th>\n",
       "      <th>flow_id</th>\n",
       "      <th>0</th>\n",
       "      <th>1</th>\n",
       "      <th>2</th>\n",
       "      <th>3</th>\n",
       "      <th>4</th>\n",
       "      <th>5</th>\n",
       "      <th>6</th>\n",
       "      <th>7</th>\n",
       "      <th>8</th>\n",
       "      <th>...</th>\n",
       "      <th>119</th>\n",
       "      <th>120</th>\n",
       "      <th>121</th>\n",
       "      <th>122</th>\n",
       "      <th>123</th>\n",
       "      <th>124</th>\n",
       "      <th>125</th>\n",
       "      <th>126</th>\n",
       "      <th>127</th>\n",
       "      <th>Label</th>\n",
       "    </tr>\n",
       "  </thead>\n",
       "  <tbody>\n",
       "    <tr>\n",
       "      <th>0</th>\n",
       "      <td>1</td>\n",
       "      <td>54</td>\n",
       "      <td>237</td>\n",
       "      <td>114</td>\n",
       "      <td>231</td>\n",
       "      <td>112</td>\n",
       "      <td>181</td>\n",
       "      <td>253</td>\n",
       "      <td>113</td>\n",
       "      <td>85</td>\n",
       "      <td>...</td>\n",
       "      <td>0</td>\n",
       "      <td>67</td>\n",
       "      <td>83</td>\n",
       "      <td>67</td>\n",
       "      <td>84</td>\n",
       "      <td>140</td>\n",
       "      <td>4</td>\n",
       "      <td>0</td>\n",
       "      <td>0</td>\n",
       "      <td>0</td>\n",
       "    </tr>\n",
       "    <tr>\n",
       "      <th>1</th>\n",
       "      <td>1</td>\n",
       "      <td>224</td>\n",
       "      <td>52</td>\n",
       "      <td>1</td>\n",
       "      <td>24</td>\n",
       "      <td>139</td>\n",
       "      <td>80</td>\n",
       "      <td>37</td>\n",
       "      <td>142</td>\n",
       "      <td>72</td>\n",
       "      <td>...</td>\n",
       "      <td>55</td>\n",
       "      <td>254</td>\n",
       "      <td>219</td>\n",
       "      <td>129</td>\n",
       "      <td>171</td>\n",
       "      <td>213</td>\n",
       "      <td>39</td>\n",
       "      <td>80</td>\n",
       "      <td>54</td>\n",
       "      <td>0</td>\n",
       "    </tr>\n",
       "    <tr>\n",
       "      <th>2</th>\n",
       "      <td>1</td>\n",
       "      <td>147</td>\n",
       "      <td>230</td>\n",
       "      <td>214</td>\n",
       "      <td>144</td>\n",
       "      <td>237</td>\n",
       "      <td>10</td>\n",
       "      <td>20</td>\n",
       "      <td>195</td>\n",
       "      <td>121</td>\n",
       "      <td>...</td>\n",
       "      <td>0</td>\n",
       "      <td>0</td>\n",
       "      <td>0</td>\n",
       "      <td>0</td>\n",
       "      <td>0</td>\n",
       "      <td>0</td>\n",
       "      <td>0</td>\n",
       "      <td>0</td>\n",
       "      <td>0</td>\n",
       "      <td>0</td>\n",
       "    </tr>\n",
       "    <tr>\n",
       "      <th>3</th>\n",
       "      <td>1</td>\n",
       "      <td>134</td>\n",
       "      <td>212</td>\n",
       "      <td>68</td>\n",
       "      <td>223</td>\n",
       "      <td>217</td>\n",
       "      <td>174</td>\n",
       "      <td>29</td>\n",
       "      <td>228</td>\n",
       "      <td>155</td>\n",
       "      <td>...</td>\n",
       "      <td>0</td>\n",
       "      <td>0</td>\n",
       "      <td>0</td>\n",
       "      <td>0</td>\n",
       "      <td>0</td>\n",
       "      <td>0</td>\n",
       "      <td>0</td>\n",
       "      <td>0</td>\n",
       "      <td>0</td>\n",
       "      <td>0</td>\n",
       "    </tr>\n",
       "    <tr>\n",
       "      <th>4</th>\n",
       "      <td>1</td>\n",
       "      <td>5</td>\n",
       "      <td>112</td>\n",
       "      <td>242</td>\n",
       "      <td>100</td>\n",
       "      <td>226</td>\n",
       "      <td>166</td>\n",
       "      <td>86</td>\n",
       "      <td>181</td>\n",
       "      <td>252</td>\n",
       "      <td>...</td>\n",
       "      <td>74</td>\n",
       "      <td>74</td>\n",
       "      <td>239</td>\n",
       "      <td>64</td>\n",
       "      <td>29</td>\n",
       "      <td>247</td>\n",
       "      <td>84</td>\n",
       "      <td>229</td>\n",
       "      <td>88</td>\n",
       "      <td>0</td>\n",
       "    </tr>\n",
       "    <tr>\n",
       "      <th>...</th>\n",
       "      <td>...</td>\n",
       "      <td>...</td>\n",
       "      <td>...</td>\n",
       "      <td>...</td>\n",
       "      <td>...</td>\n",
       "      <td>...</td>\n",
       "      <td>...</td>\n",
       "      <td>...</td>\n",
       "      <td>...</td>\n",
       "      <td>...</td>\n",
       "      <td>...</td>\n",
       "      <td>...</td>\n",
       "      <td>...</td>\n",
       "      <td>...</td>\n",
       "      <td>...</td>\n",
       "      <td>...</td>\n",
       "      <td>...</td>\n",
       "      <td>...</td>\n",
       "      <td>...</td>\n",
       "      <td>...</td>\n",
       "      <td>...</td>\n",
       "    </tr>\n",
       "    <tr>\n",
       "      <th>188475</th>\n",
       "      <td>155096</td>\n",
       "      <td>78</td>\n",
       "      <td>254</td>\n",
       "      <td>66</td>\n",
       "      <td>31</td>\n",
       "      <td>163</td>\n",
       "      <td>21</td>\n",
       "      <td>161</td>\n",
       "      <td>151</td>\n",
       "      <td>4</td>\n",
       "      <td>...</td>\n",
       "      <td>145</td>\n",
       "      <td>214</td>\n",
       "      <td>194</td>\n",
       "      <td>74</td>\n",
       "      <td>209</td>\n",
       "      <td>102</td>\n",
       "      <td>82</td>\n",
       "      <td>8</td>\n",
       "      <td>204</td>\n",
       "      <td>1</td>\n",
       "    </tr>\n",
       "    <tr>\n",
       "      <th>188476</th>\n",
       "      <td>155096</td>\n",
       "      <td>230</td>\n",
       "      <td>254</td>\n",
       "      <td>88</td>\n",
       "      <td>242</td>\n",
       "      <td>134</td>\n",
       "      <td>236</td>\n",
       "      <td>12</td>\n",
       "      <td>175</td>\n",
       "      <td>116</td>\n",
       "      <td>...</td>\n",
       "      <td>0</td>\n",
       "      <td>0</td>\n",
       "      <td>0</td>\n",
       "      <td>0</td>\n",
       "      <td>0</td>\n",
       "      <td>0</td>\n",
       "      <td>0</td>\n",
       "      <td>0</td>\n",
       "      <td>0</td>\n",
       "      <td>1</td>\n",
       "    </tr>\n",
       "    <tr>\n",
       "      <th>188477</th>\n",
       "      <td>155096</td>\n",
       "      <td>133</td>\n",
       "      <td>112</td>\n",
       "      <td>135</td>\n",
       "      <td>3</td>\n",
       "      <td>207</td>\n",
       "      <td>201</td>\n",
       "      <td>55</td>\n",
       "      <td>167</td>\n",
       "      <td>135</td>\n",
       "      <td>...</td>\n",
       "      <td>58</td>\n",
       "      <td>206</td>\n",
       "      <td>9</td>\n",
       "      <td>112</td>\n",
       "      <td>215</td>\n",
       "      <td>213</td>\n",
       "      <td>57</td>\n",
       "      <td>149</td>\n",
       "      <td>222</td>\n",
       "      <td>1</td>\n",
       "    </tr>\n",
       "    <tr>\n",
       "      <th>188478</th>\n",
       "      <td>155096</td>\n",
       "      <td>162</td>\n",
       "      <td>146</td>\n",
       "      <td>30</td>\n",
       "      <td>105</td>\n",
       "      <td>172</td>\n",
       "      <td>241</td>\n",
       "      <td>58</td>\n",
       "      <td>9</td>\n",
       "      <td>239</td>\n",
       "      <td>...</td>\n",
       "      <td>23</td>\n",
       "      <td>186</td>\n",
       "      <td>54</td>\n",
       "      <td>143</td>\n",
       "      <td>222</td>\n",
       "      <td>105</td>\n",
       "      <td>77</td>\n",
       "      <td>226</td>\n",
       "      <td>75</td>\n",
       "      <td>1</td>\n",
       "    </tr>\n",
       "    <tr>\n",
       "      <th>188479</th>\n",
       "      <td>155096</td>\n",
       "      <td>0</td>\n",
       "      <td>114</td>\n",
       "      <td>236</td>\n",
       "      <td>238</td>\n",
       "      <td>95</td>\n",
       "      <td>210</td>\n",
       "      <td>104</td>\n",
       "      <td>84</td>\n",
       "      <td>87</td>\n",
       "      <td>...</td>\n",
       "      <td>0</td>\n",
       "      <td>0</td>\n",
       "      <td>0</td>\n",
       "      <td>0</td>\n",
       "      <td>0</td>\n",
       "      <td>0</td>\n",
       "      <td>0</td>\n",
       "      <td>0</td>\n",
       "      <td>0</td>\n",
       "      <td>1</td>\n",
       "    </tr>\n",
       "  </tbody>\n",
       "</table>\n",
       "<p>188480 rows × 130 columns</p>\n",
       "</div>"
      ],
      "text/plain": [
       "        flow_id    0    1    2    3    4    5    6    7    8  ...  119  120  \\\n",
       "0             1   54  237  114  231  112  181  253  113   85  ...    0   67   \n",
       "1             1  224   52    1   24  139   80   37  142   72  ...   55  254   \n",
       "2             1  147  230  214  144  237   10   20  195  121  ...    0    0   \n",
       "3             1  134  212   68  223  217  174   29  228  155  ...    0    0   \n",
       "4             1    5  112  242  100  226  166   86  181  252  ...   74   74   \n",
       "...         ...  ...  ...  ...  ...  ...  ...  ...  ...  ...  ...  ...  ...   \n",
       "188475   155096   78  254   66   31  163   21  161  151    4  ...  145  214   \n",
       "188476   155096  230  254   88  242  134  236   12  175  116  ...    0    0   \n",
       "188477   155096  133  112  135    3  207  201   55  167  135  ...   58  206   \n",
       "188478   155096  162  146   30  105  172  241   58    9  239  ...   23  186   \n",
       "188479   155096    0  114  236  238   95  210  104   84   87  ...    0    0   \n",
       "\n",
       "        121  122  123  124  125  126  127  Label  \n",
       "0        83   67   84  140    4    0    0      0  \n",
       "1       219  129  171  213   39   80   54      0  \n",
       "2         0    0    0    0    0    0    0      0  \n",
       "3         0    0    0    0    0    0    0      0  \n",
       "4       239   64   29  247   84  229   88      0  \n",
       "...     ...  ...  ...  ...  ...  ...  ...    ...  \n",
       "188475  194   74  209  102   82    8  204      1  \n",
       "188476    0    0    0    0    0    0    0      1  \n",
       "188477    9  112  215  213   57  149  222      1  \n",
       "188478   54  143  222  105   77  226   75      1  \n",
       "188479    0    0    0    0    0    0    0      1  \n",
       "\n",
       "[188480 rows x 130 columns]"
      ]
     },
     "execution_count": 2,
     "metadata": {},
     "output_type": "execute_result"
    }
   ],
   "source": [
    "# Hiển thị dữ liệu\n",
    "df"
   ]
  },
  {
   "cell_type": "code",
   "execution_count": 3,
   "id": "d4da3352-d32e-4a19-ba8f-b735f9897321",
   "metadata": {},
   "outputs": [],
   "source": [
    "label_counts = df['Label'].value_counts()"
   ]
  },
  {
   "cell_type": "code",
   "execution_count": 4,
   "id": "b5752df4-7fd1-4506-afd6-a39af3dcde38",
   "metadata": {
    "tags": []
   },
   "outputs": [
    {
     "data": {
      "text/plain": [
       "0    2842.0\n",
       "2    2808.0\n",
       "1    2034.0\n",
       "3    1740.0\n",
       "Name: Label, dtype: float64"
      ]
     },
     "execution_count": 4,
     "metadata": {},
     "output_type": "execute_result"
    }
   ],
   "source": [
    "label_counts/20"
   ]
  },
  {
   "cell_type": "markdown",
   "id": "106e1db6-a0c7-46a2-bb07-2b35cf891ce8",
   "metadata": {},
   "source": [
    "# 20 gói tin trong một network flow sẽ được kết hợp lại tạo thành một ma trận có kích thước 20 * X (X là kích thước chuẩn)"
   ]
  },
  {
   "cell_type": "code",
   "execution_count": 5,
   "id": "dafe6e57-7dbe-4c2b-8a10-027bddb2ca7e",
   "metadata": {
    "tags": []
   },
   "outputs": [],
   "source": [
    "# Chọn cột '0' đến '127' cho mỗi flow_id và chuyển thành một danh sách các ma trận\n",
    "matrices = []\n",
    "labels = []\n",
    "for flow_id, group in df.groupby('flow_id'):\n",
    "    matrix = group.loc[:, '0':'127'].values\n",
    "    label = group['Label'].values[0] \n",
    "    matrices.append(matrix)\n",
    "    labels.append(label)\n",
    "\n",
    "# Chuyển danh sách ma trận thành mảng NumPy\n",
    "X_Transfer = np.array(matrices)\n",
    "X_Transfer = X_Transfer / 255\n",
    "y_Transfer = np.array(labels)\n"
   ]
  },
  {
   "cell_type": "code",
   "execution_count": 6,
   "id": "49a59439-e6cf-413f-a911-b099520b3441",
   "metadata": {
    "tags": []
   },
   "outputs": [
    {
     "name": "stdout",
     "output_type": "stream",
     "text": [
      "Stored 'X_Transfer' (ndarray)\n",
      "Stored 'y_Transfer' (ndarray)\n"
     ]
    }
   ],
   "source": [
    "%store X_Transfer\n",
    "%store y_Transfer"
   ]
  },
  {
   "cell_type": "code",
   "execution_count": 7,
   "id": "3ae929b1-6859-4832-8994-56c0522bf9bf",
   "metadata": {
    "tags": []
   },
   "outputs": [
    {
     "data": {
      "text/plain": [
       "(9424, 20, 128)"
      ]
     },
     "execution_count": 7,
     "metadata": {},
     "output_type": "execute_result"
    }
   ],
   "source": [
    "X_Transfer.shape"
   ]
  },
  {
   "cell_type": "code",
   "execution_count": 8,
   "id": "3d0c5b14-6aa0-482e-9777-2bceee8cf41f",
   "metadata": {},
   "outputs": [
    {
     "data": {
      "text/plain": [
       "0    2842.0\n",
       "2    2808.0\n",
       "1    2034.0\n",
       "3    1740.0\n",
       "Name: Label, dtype: float64"
      ]
     },
     "execution_count": 8,
     "metadata": {},
     "output_type": "execute_result"
    }
   ],
   "source": [
    "label_counts = df['Label'].value_counts()\n",
    "label_counts/20"
   ]
  },
  {
   "cell_type": "markdown",
   "id": "28948144-e95e-471a-9c8c-d86b432eee87",
   "metadata": {},
   "source": [
    "# Đọc file test"
   ]
  },
  {
   "cell_type": "code",
   "execution_count": 9,
   "id": "71ba78b6-47b5-4801-aac9-9c0250ffe5c6",
   "metadata": {
    "tags": []
   },
   "outputs": [],
   "source": [
    "# Đường dẫn đến file feather cần đọc\n",
    "file_path_test = 'D:/GQUIC_small/dataset1/Test/test_128.feather'\n",
    "\n",
    "# Đọc file feather\n",
    "df_test = pd.read_feather(file_path)"
   ]
  },
  {
   "cell_type": "markdown",
   "id": "289ae17a-e8c6-4ef7-b263-c877cc43b710",
   "metadata": {},
   "source": [
    "# Chuẩn hóa dữ liệu test"
   ]
  },
  {
   "cell_type": "code",
   "execution_count": 10,
   "id": "3ec424fd-c85b-4346-85af-0e90ef69d5c5",
   "metadata": {
    "tags": []
   },
   "outputs": [],
   "source": [
    "# Chọn cột '0' đến '127' cho mỗi flow_id và chuyển thành một danh sách các ma trận\n",
    "matrices_test = []\n",
    "labels_test = []\n",
    "for flow_id, group in df_test.groupby('flow_id'):\n",
    "    matrix = group.loc[:, '0':'127'].values\n",
    "    label = group['Label'].values[0] \n",
    "    matrices_test.append(matrix)\n",
    "    labels_test.append(label)\n",
    "\n",
    "# Chuyển danh sách ma trận thành mảng NumPy\n",
    "X_Transfer_test = np.array(matrices_test)\n",
    "X_Transfer_test = X_Transfer_test / 255\n",
    "y_Transfer_test = np.array(labels_test)"
   ]
  },
  {
   "cell_type": "code",
   "execution_count": 11,
   "id": "62ad16dc-aa07-414c-a880-449d8d3936a3",
   "metadata": {
    "tags": []
   },
   "outputs": [
    {
     "name": "stdout",
     "output_type": "stream",
     "text": [
      "Stored 'X_Transfer_test' (ndarray)\n",
      "Stored 'y_Transfer_test' (ndarray)\n"
     ]
    }
   ],
   "source": [
    "%store X_Transfer_test\n",
    "%store y_Transfer_test"
   ]
  },
  {
   "cell_type": "code",
   "execution_count": 12,
   "id": "f5bd2538-cb0e-42a0-829a-e03f3b2410aa",
   "metadata": {},
   "outputs": [
    {
     "data": {
      "text/plain": [
       "0    2842.0\n",
       "2    2808.0\n",
       "1    2034.0\n",
       "3    1740.0\n",
       "Name: Label, dtype: float64"
      ]
     },
     "execution_count": 12,
     "metadata": {},
     "output_type": "execute_result"
    }
   ],
   "source": [
    "label_counts_test = df['Label'].value_counts()\n",
    "label_counts_test/20"
   ]
  },
  {
   "cell_type": "code",
   "execution_count": null,
   "id": "feb8caf2-9849-464d-b43e-ac3cd9237862",
   "metadata": {},
   "outputs": [],
   "source": []
  }
 ],
 "metadata": {
  "kernelspec": {
   "display_name": "Python 3 (ipykernel)",
   "language": "python",
   "name": "python3"
  },
  "language_info": {
   "codemirror_mode": {
    "name": "ipython",
    "version": 3
   },
   "file_extension": ".py",
   "mimetype": "text/x-python",
   "name": "python",
   "nbconvert_exporter": "python",
   "pygments_lexer": "ipython3",
   "version": "3.11.4"
  }
 },
 "nbformat": 4,
 "nbformat_minor": 5
}
