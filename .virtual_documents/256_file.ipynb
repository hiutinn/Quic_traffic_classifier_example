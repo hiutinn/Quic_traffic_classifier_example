import pandas as pd
import numpy as np

# Đường dẫn đến file feather cần đọc
file_path = 'D:/ProJ/data/GQUIC_train_256.feather'

# Đọc file feather
df = pd.read_feather(file_path)


# Chọn cột '0' đến '127' cho mỗi flow_id và chuyển thành một danh sách các ma trận
matrices = []
labels = []
for flow_id, group in df.groupby('flow_id'):
    matrix = group.loc[:, '0':'255'].values
    label = group['Label'].values[0] 
    matrices.append(matrix)
    labels.append(label)

# Chuyển danh sách ma trận thành mảng NumPy
X = np.array(matrices)
X_256 = X / 255
y_256 = np.array(labels)


feature_names = df.columns
feature_names_256 = feature_names[1:257]
feature_names_256
%store feature_names_256


%store X_256
%store y_256


# Đường dẫn đến file feather cần đọc
file_path_test = 'D:/ProJ/data/GQUIC_test_256.feather'

# Đọc file feather
df_test = pd.read_feather(file_path)


# Chọn cột '0' đến '127' cho mỗi flow_id và chuyển thành một danh sách các ma trận
matrices_test = []
labels_test = []
for flow_id, group in df.groupby('flow_id'):
    matrix = group.loc[:, '0':'255'].values
    label = group['Label'].values[0] 
    matrices_test.append(matrix)
    labels_test.append(label)

# Chuyển danh sách ma trận thành mảng NumPy
X_test = np.array(matrices_test)
X_test_256 = X_test / 255
y_test_256 = np.array(labels_test)


%store X_test_256
%store y_test_256
