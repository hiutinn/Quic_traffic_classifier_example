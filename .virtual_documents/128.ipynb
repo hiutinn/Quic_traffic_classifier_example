


import pandas as pd
import numpy as np

# Đường dẫn đến file feather cần đọc
file_path = 'data/Train/GQUIC_train_128.feather'

# Đọc file feather
df = pd.read_feather(file_path)


# Hiển thị dữ liệu
df


feature_names = df.columns
feature_names = feature_names[1:129]
feature_names
%store feature_names


feature_names


label_counts = df['Label'].value_counts()


label_counts/20





# Chọn cột '0' đến '127' cho mỗi flow_id và chuyển thành một danh sách các ma trận
matrices = []
labels = []
for flow_id, group in df.groupby('flow_id'):
    matrix = group.loc[:, '0':'127'].values
    label = group['Label'].values[0] 
    matrices.append(matrix)
    labels.append(label)

# Chuyển danh sách ma trận thành mảng NumPy
X = np.array(matrices)
X = X / 255
y = np.array(labels)


y.shape


%store X
%store y


X.shape





# Đường dẫn đến file feather cần đọc
file_path_test = 'data/Test/GQUIC_test_128.feather'

# Đọc file feather
df_test = pd.read_feather(file_path)


df_test





# Chọn cột '0' đến '127' cho mỗi flow_id và chuyển thành một danh sách các ma trận
matrices_test = []
labels_test = []
for flow_id, group in df_test.groupby('flow_id'):
    matrix = group.loc[:, '0':'127'].values
    label = group['Label'].values[0] 
    matrices_test.append(matrix)
    labels_test.append(label)

# Chuyển danh sách ma trận thành mảng NumPy
X_test = np.array(matrices_test)
X_test = X_test / 255
y_test = np.array(labels_test)


%store X_test
%store y_test


X.shape[-1]



