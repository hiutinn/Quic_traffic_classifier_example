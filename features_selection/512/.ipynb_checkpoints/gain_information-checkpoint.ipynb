{
 "cells": [
  {
   "cell_type": "markdown",
   "id": "35c17dfb-edd0-4779-b707-ec44300cb4ee",
   "metadata": {},
   "source": [
    "# Lấy dữ liệu"
   ]
  },
  {
   "cell_type": "code",
   "execution_count": 1,
   "id": "099fd918-8599-47f1-8f8c-136394a4bc8a",
   "metadata": {
    "tags": []
   },
   "outputs": [],
   "source": [
    "%store -r X_512\n",
    "%store -r y_512\n",
    "%store -r X_test_512\n",
    "%store -r y_test_512\n",
    "%store -r feature_names_512"
   ]
  },
  {
   "cell_type": "markdown",
   "id": "62fd0765-0159-4696-b14d-dae9dbaf053e",
   "metadata": {},
   "source": [
    "# Thay đổi dữ liệu để phù hợp"
   ]
  },
  {
   "cell_type": "code",
   "execution_count": 2,
   "id": "6877ceeb-1d88-4b58-a57e-9d60c37f24b0",
   "metadata": {},
   "outputs": [],
   "source": [
    "import numpy as np\n",
    "import matplotlib.pyplot as plt\n",
    "from sklearn.feature_selection import mutual_info_regression\n",
    "\n",
    "# Reshape data\n",
    "# Data ban đầu X(13166, 20, 128), y(13166)\n",
    "\n",
    "# Reshape X về dạng 2d => X_2d(263320, 128), giữ nguyên 128 và đó là các đặc trưng\n",
    "X_2d = X_512.reshape(-1, X_512.shape[-1])\n",
    "# Reshape y thành y_reshaped(263320) bằng cách lặp mỗi phần tử trong y 20 lần\n",
    "y_reshaped = np.repeat(y_512, 20)"
   ]
  },
  {
   "cell_type": "markdown",
   "id": "7388d62c-8142-441e-94ef-76b8a569aac6",
   "metadata": {},
   "source": [
    "# Dùng hàm mutual_info_regression\n",
    "# để đánh giá điểm cho các feature"
   ]
  },
  {
   "cell_type": "code",
   "execution_count": 3,
   "id": "6bafa1b4-9180-4394-94e4-e28d49a4908c",
   "metadata": {
    "tags": []
   },
   "outputs": [],
   "source": [
    "# Compute information gain for each feature\n",
    "info_gain = mutual_info_regression(X_2d, y_reshaped)"
   ]
  },
  {
   "cell_type": "markdown",
   "id": "5d67efc4-a942-47e1-86ab-0030c117583f",
   "metadata": {},
   "source": [
    "# Sắp xếp và lấy index của top k phần tử tốt nhất"
   ]
  },
  {
   "cell_type": "code",
   "execution_count": 4,
   "id": "f823da3a-759b-4843-8585-ba9bb1bf920b",
   "metadata": {
    "tags": []
   },
   "outputs": [],
   "source": [
    "# Sort the features based on information gain in descending order\n",
    "sorted_features_indices = np.argsort(info_gain)[::-1]\n",
    "\n",
    "# Select the top k features (adjust k as needed)\n",
    "k = 128\n",
    "selected_features_indices = sorted_features_indices[:k]"
   ]
  },
  {
   "cell_type": "code",
   "execution_count": 5,
   "id": "b89d54cb-9748-4938-8fcf-2867ba4c5927",
   "metadata": {
    "tags": []
   },
   "outputs": [],
   "source": [
    "selected_X = X_512[:,:,selected_features_indices]\n",
    "selected_X_test = X_test_512[:,:,selected_features_indices]"
   ]
  },
  {
   "cell_type": "code",
   "execution_count": 6,
   "id": "39f7a22c-66e4-4ab7-9640-be466c443ea5",
   "metadata": {
    "tags": []
   },
   "outputs": [
    {
     "name": "stdout",
     "output_type": "stream",
     "text": [
      "WARNING:tensorflow:From C:\\Users\\ADMIN\\anaconda3\\Lib\\site-packages\\keras\\src\\losses.py:2976: The name tf.losses.sparse_softmax_cross_entropy is deprecated. Please use tf.compat.v1.losses.sparse_softmax_cross_entropy instead.\n",
      "\n",
      "WARNING:tensorflow:From C:\\Users\\ADMIN\\anaconda3\\Lib\\site-packages\\keras\\src\\backend.py:873: The name tf.get_default_graph is deprecated. Please use tf.compat.v1.get_default_graph instead.\n",
      "\n",
      "WARNING:tensorflow:From C:\\Users\\ADMIN\\anaconda3\\Lib\\site-packages\\keras\\src\\layers\\pooling\\max_pooling2d.py:161: The name tf.nn.max_pool is deprecated. Please use tf.nn.max_pool2d instead.\n",
      "\n",
      "Model: \"sequential\"\n",
      "_________________________________________________________________\n",
      " Layer (type)                Output Shape              Param #   \n",
      "=================================================================\n",
      " conv2d (Conv2D)             (None, 20, 128, 32)       832       \n",
      "                                                                 \n",
      " conv2d_1 (Conv2D)           (None, 20, 128, 32)       25632     \n",
      "                                                                 \n",
      " max_pooling2d (MaxPooling2  (None, 10, 64, 32)        0         \n",
      " D)                                                              \n",
      "                                                                 \n",
      " dropout (Dropout)           (None, 10, 64, 32)        0         \n",
      "                                                                 \n",
      " conv2d_2 (Conv2D)           (None, 10, 64, 64)        51264     \n",
      "                                                                 \n",
      " conv2d_3 (Conv2D)           (None, 10, 64, 64)        102464    \n",
      "                                                                 \n",
      " max_pooling2d_1 (MaxPoolin  (None, 5, 32, 64)         0         \n",
      " g2D)                                                            \n",
      "                                                                 \n",
      " flatten (Flatten)           (None, 10240)             0         \n",
      "                                                                 \n",
      " dense (Dense)               (None, 64)                655424    \n",
      "                                                                 \n",
      " dropout_1 (Dropout)         (None, 64)                0         \n",
      "                                                                 \n",
      " dense_1 (Dense)             (None, 5)                 325       \n",
      "                                                                 \n",
      "=================================================================\n",
      "Total params: 835941 (3.19 MB)\n",
      "Trainable params: 835941 (3.19 MB)\n",
      "Non-trainable params: 0 (0.00 Byte)\n",
      "_________________________________________________________________\n",
      "WARNING:tensorflow:From C:\\Users\\ADMIN\\anaconda3\\Lib\\site-packages\\keras\\src\\optimizers\\__init__.py:309: The name tf.train.Optimizer is deprecated. Please use tf.compat.v1.train.Optimizer instead.\n",
      "\n"
     ]
    }
   ],
   "source": [
    "import tensorflow as tf\n",
    "from tensorflow import keras\n",
    "from tensorflow.keras import layers\n",
    "\n",
    "# Khởi tạo mô hình\n",
    "model = keras.Sequential()\n",
    "\n",
    "# Thêm lớp Convolutional Layer với 32 bộ lọc kích thước 5x5 và hàm kích hoạt ReLU\n",
    "model.add(layers.Conv2D(32, (5, 5), activation='relu', input_shape=(20, k, 1), padding='same'))\n",
    "\n",
    "# Thêm lớp Convolutional Layer với 32 bộ lọc kích thước 5x5 và hàm kích hoạt ReLU\n",
    "model.add(layers.Conv2D(32, (5,5), activation='relu', padding='same'))\n",
    "\n",
    "# Thêm lớp Max Pooling 2D để giảm kích thước đầu vào đi 2 lần\n",
    "model.add(layers.MaxPooling2D((2, 2)))\n",
    "\n",
    "# Thêm lớp Dropout để giảm hiện tượng overfitting\n",
    "model.add(layers.Dropout(0.5))\n",
    "\n",
    "# Thêm lớp Convolutional Layer với 64 bộ lọc kích thước 3x3 và hàm kích hoạt ReLU\n",
    "model.add(layers.Conv2D(64, (5, 5), activation='relu', padding='same'))\n",
    "\n",
    "# Thêm lớp Convolutional Layer với 64 bộ lọc kích thước 3x3 và hàm kích hoạt ReLU\n",
    "model.add(layers.Conv2D(64, (5, 5), activation='relu', padding='same'))\n",
    "\n",
    "# Thêm lớp Max Pooling 2D để giảm kích thước đầu vào đi 2 lần\n",
    "model.add(layers.MaxPooling2D((2, 2)))\n",
    "\n",
    "# Thêm lớp Flatten để làm phẳng đầu ra của lớp trước khi đi vào các lớp fully connected\n",
    "model.add(layers.Flatten())\n",
    "\n",
    "# Thêm lớp fully connected (Dense Layer) với 64 units và hàm kích hoạt ReLU\n",
    "model.add(layers.Dense(64, activation='relu'))\n",
    "\n",
    "# Thêm lớp Dropout để giảm hiện tượng overfitting\n",
    "model.add(layers.Dropout(0.5))\n",
    "\n",
    "# Thêm lớp fully connected (Dense Layer) cuối cùng với số lớp đầu ra phụ thuộc vào bài toán của bạn\n",
    "model.add(layers.Dense(5, activation='softmax'))\n",
    "\n",
    "# In thông tin mô hình\n",
    "model.summary()\n",
    "\n",
    "# Biên dịch mô hình\n",
    "model.compile(optimizer='adam', loss='sparse_categorical_crossentropy', metrics=['accuracy'])\n"
   ]
  },
  {
   "cell_type": "code",
   "execution_count": 7,
   "id": "ea0d31f4-54f7-4c25-846b-5dea74e35cab",
   "metadata": {
    "tags": []
   },
   "outputs": [
    {
     "name": "stdout",
     "output_type": "stream",
     "text": [
      "Epoch 1/10\n",
      "WARNING:tensorflow:From C:\\Users\\ADMIN\\anaconda3\\Lib\\site-packages\\keras\\src\\utils\\tf_utils.py:492: The name tf.ragged.RaggedTensorValue is deprecated. Please use tf.compat.v1.ragged.RaggedTensorValue instead.\n",
      "\n",
      "WARNING:tensorflow:From C:\\Users\\ADMIN\\anaconda3\\Lib\\site-packages\\keras\\src\\engine\\base_layer_utils.py:384: The name tf.executing_eagerly_outside_functions is deprecated. Please use tf.compat.v1.executing_eagerly_outside_functions instead.\n",
      "\n",
      "823/823 [==============================] - 69s 82ms/step - loss: 0.8431 - accuracy: 0.6717\n",
      "Epoch 2/10\n",
      "823/823 [==============================] - 69s 84ms/step - loss: 0.5123 - accuracy: 0.8138\n",
      "Epoch 3/10\n",
      "823/823 [==============================] - 69s 84ms/step - loss: 0.4358 - accuracy: 0.8403\n",
      "Epoch 4/10\n",
      "823/823 [==============================] - 66s 81ms/step - loss: 0.3829 - accuracy: 0.8598\n",
      "Epoch 5/10\n",
      "823/823 [==============================] - 67s 81ms/step - loss: 0.3489 - accuracy: 0.8742\n",
      "Epoch 6/10\n",
      "823/823 [==============================] - 71s 86ms/step - loss: 0.3248 - accuracy: 0.8795\n",
      "Epoch 7/10\n",
      "823/823 [==============================] - 70s 85ms/step - loss: 0.2995 - accuracy: 0.8908\n",
      "Epoch 8/10\n",
      "823/823 [==============================] - 69s 84ms/step - loss: 0.2896 - accuracy: 0.8940\n",
      "Epoch 9/10\n",
      "823/823 [==============================] - 67s 82ms/step - loss: 0.2709 - accuracy: 0.8979\n",
      "Epoch 10/10\n",
      "823/823 [==============================] - 71s 86ms/step - loss: 0.2561 - accuracy: 0.9040\n"
     ]
    },
    {
     "data": {
      "text/plain": [
       "<keras.src.callbacks.History at 0x1f021c1a990>"
      ]
     },
     "execution_count": 7,
     "metadata": {},
     "output_type": "execute_result"
    }
   ],
   "source": [
    "model.fit(selected_X, y_512, epochs=10, batch_size=16)"
   ]
  },
  {
   "cell_type": "markdown",
   "id": "40428aa7-8838-4bbb-b681-c4219e70760c",
   "metadata": {},
   "source": [
    "# k = 128"
   ]
  },
  {
   "cell_type": "code",
   "execution_count": 8,
   "id": "35f24b6b-0748-451e-ac68-57e25b70c875",
   "metadata": {
    "tags": []
   },
   "outputs": [
    {
     "name": "stdout",
     "output_type": "stream",
     "text": [
      "412/412 [==============================] - 19s 45ms/step - loss: 0.1661 - accuracy: 0.9354\n",
      "Độ chính xác trên tập kiểm tra: 0.9354397654533386\n",
      "412/412 [==============================] - 19s 45ms/step\n",
      "Ma trận nhầm lẫn:\n",
      "[[2841    1    0    0    0]\n",
      " [   1 1949   10   65    9]\n",
      " [   0   19 2664    8  117]\n",
      " [   0  190   15 1528    7]\n",
      " [   0   86  317    5 3334]]\n",
      "Báo cáo phân loại:\n",
      "              precision    recall  f1-score   support\n",
      "\n",
      "           0       1.00      1.00      1.00      2842\n",
      "           1       0.87      0.96      0.91      2034\n",
      "           2       0.89      0.95      0.92      2808\n",
      "           3       0.95      0.88      0.91      1740\n",
      "           4       0.96      0.89      0.92      3742\n",
      "\n",
      "    accuracy                           0.94     13166\n",
      "   macro avg       0.93      0.94      0.93     13166\n",
      "weighted avg       0.94      0.94      0.94     13166\n",
      "\n"
     ]
    }
   ],
   "source": [
    "# Đánh giá mô hình trên tập kiểm tra\n",
    "test_loss, test_accuracy = model.evaluate(selected_X_test, y_test_512)\n",
    "print(\"Độ chính xác trên tập kiểm tra:\", test_accuracy)\n",
    "\n",
    "# Dự đoán các nhãn trên tập kiểm tra\n",
    "y_pred = model.predict(selected_X_test)\n",
    "\n",
    "# Chuyển đổi dự đoán thành nhãn dự đoán (lớp dự đoán)\n",
    "y_pred_classes = np.argmax(y_pred, axis=1)\n",
    "\n",
    "# Hiển thị ma trận nhầm lẫn\n",
    "from sklearn.metrics import confusion_matrix, classification_report\n",
    "confusion = confusion_matrix(y_test_512, y_pred_classes)\n",
    "print(\"Ma trận nhầm lẫn:\")\n",
    "print(confusion)\n",
    "\n",
    "# Hiển thị báo cáo phân loại\n",
    "class_report = classification_report(y_test_512, y_pred_classes)\n",
    "print(\"Báo cáo phân loại:\")\n",
    "print(class_report)"
   ]
  },
  {
   "cell_type": "code",
   "execution_count": null,
   "id": "cfa061f9-acec-48b1-8d31-be92dda56177",
   "metadata": {},
   "outputs": [],
   "source": []
  }
 ],
 "metadata": {
  "kernelspec": {
   "display_name": "Python 3 (ipykernel)",
   "language": "python",
   "name": "python3"
  },
  "language_info": {
   "codemirror_mode": {
    "name": "ipython",
    "version": 3
   },
   "file_extension": ".py",
   "mimetype": "text/x-python",
   "name": "python",
   "nbconvert_exporter": "python",
   "pygments_lexer": "ipython3",
   "version": "3.11.7"
  }
 },
 "nbformat": 4,
 "nbformat_minor": 5
}
