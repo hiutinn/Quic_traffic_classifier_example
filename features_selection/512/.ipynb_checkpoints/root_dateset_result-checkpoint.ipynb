{
 "cells": [
  {
   "cell_type": "markdown",
   "id": "63a8a4f5-37f8-4588-ac85-dc34f9c65a48",
   "metadata": {},
   "source": [
    "# Kết quả khi dùng dữ liệu gốc để train model CNN2D "
   ]
  },
  {
   "cell_type": "code",
   "execution_count": 1,
   "id": "c42b0e77-8e56-4052-868e-2503ae0e385c",
   "metadata": {},
   "outputs": [],
   "source": [
    "%store -r X_512\n",
    "%store -r y_512\n",
    "%store -r X_test_512\n",
    "%store -r y_test_512\n",
    "%store -r feature_names_512"
   ]
  },
  {
   "cell_type": "code",
   "execution_count": 2,
   "id": "2c823097-2a30-49a4-9924-adffb30922dd",
   "metadata": {},
   "outputs": [
    {
     "name": "stdout",
     "output_type": "stream",
     "text": [
      "WARNING:tensorflow:From C:\\Users\\ADMIN\\anaconda3\\Lib\\site-packages\\keras\\src\\losses.py:2976: The name tf.losses.sparse_softmax_cross_entropy is deprecated. Please use tf.compat.v1.losses.sparse_softmax_cross_entropy instead.\n",
      "\n",
      "WARNING:tensorflow:From C:\\Users\\ADMIN\\anaconda3\\Lib\\site-packages\\keras\\src\\backend.py:873: The name tf.get_default_graph is deprecated. Please use tf.compat.v1.get_default_graph instead.\n",
      "\n",
      "WARNING:tensorflow:From C:\\Users\\ADMIN\\anaconda3\\Lib\\site-packages\\keras\\src\\layers\\pooling\\max_pooling2d.py:161: The name tf.nn.max_pool is deprecated. Please use tf.nn.max_pool2d instead.\n",
      "\n",
      "Model: \"sequential\"\n",
      "_________________________________________________________________\n",
      " Layer (type)                Output Shape              Param #   \n",
      "=================================================================\n",
      " conv2d (Conv2D)             (None, 20, 512, 32)       832       \n",
      "                                                                 \n",
      " conv2d_1 (Conv2D)           (None, 20, 512, 32)       25632     \n",
      "                                                                 \n",
      " max_pooling2d (MaxPooling2  (None, 10, 256, 32)       0         \n",
      " D)                                                              \n",
      "                                                                 \n",
      " dropout (Dropout)           (None, 10, 256, 32)       0         \n",
      "                                                                 \n",
      " conv2d_2 (Conv2D)           (None, 10, 256, 64)       51264     \n",
      "                                                                 \n",
      " conv2d_3 (Conv2D)           (None, 10, 256, 64)       102464    \n",
      "                                                                 \n",
      " max_pooling2d_1 (MaxPoolin  (None, 5, 128, 64)        0         \n",
      " g2D)                                                            \n",
      "                                                                 \n",
      " flatten (Flatten)           (None, 40960)             0         \n",
      "                                                                 \n",
      " dense (Dense)               (None, 64)                2621504   \n",
      "                                                                 \n",
      " dropout_1 (Dropout)         (None, 64)                0         \n",
      "                                                                 \n",
      " dense_1 (Dense)             (None, 5)                 325       \n",
      "                                                                 \n",
      "=================================================================\n",
      "Total params: 2802021 (10.69 MB)\n",
      "Trainable params: 2802021 (10.69 MB)\n",
      "Non-trainable params: 0 (0.00 Byte)\n",
      "_________________________________________________________________\n",
      "WARNING:tensorflow:From C:\\Users\\ADMIN\\anaconda3\\Lib\\site-packages\\keras\\src\\optimizers\\__init__.py:309: The name tf.train.Optimizer is deprecated. Please use tf.compat.v1.train.Optimizer instead.\n",
      "\n"
     ]
    }
   ],
   "source": [
    "import tensorflow as tf\n",
    "from tensorflow import keras\n",
    "from tensorflow.keras import layers\n",
    "\n",
    "# Khởi tạo mô hình\n",
    "model = keras.Sequential()\n",
    "\n",
    "# Thêm lớp Convolutional Layer với 32 bộ lọc kích thước 5x5 và hàm kích hoạt ReLU\n",
    "model.add(layers.Conv2D(32, (5, 5), activation='relu', input_shape=(20, 512, 1), padding='same'))\n",
    "\n",
    "# Thêm lớp Convolutional Layer với 32 bộ lọc kích thước 5x5 và hàm kích hoạt ReLU\n",
    "model.add(layers.Conv2D(32, (5,5), activation='relu', padding='same'))\n",
    "\n",
    "# Thêm lớp Max Pooling 2D để giảm kích thước đầu vào đi 2 lần\n",
    "model.add(layers.MaxPooling2D((2, 2)))\n",
    "\n",
    "# Thêm lớp Dropout để giảm hiện tượng overfitting\n",
    "model.add(layers.Dropout(0.5))\n",
    "\n",
    "# Thêm lớp Convolutional Layer với 64 bộ lọc kích thước 3x3 và hàm kích hoạt ReLU\n",
    "model.add(layers.Conv2D(64, (5, 5), activation='relu', padding='same'))\n",
    "\n",
    "# Thêm lớp Convolutional Layer với 64 bộ lọc kích thước 3x3 và hàm kích hoạt ReLU\n",
    "model.add(layers.Conv2D(64, (5, 5), activation='relu', padding='same'))\n",
    "\n",
    "# Thêm lớp Max Pooling 2D để giảm kích thước đầu vào đi 2 lần\n",
    "model.add(layers.MaxPooling2D((2, 2)))\n",
    "\n",
    "# Thêm lớp Flatten để làm phẳng đầu ra của lớp trước khi đi vào các lớp fully connected\n",
    "model.add(layers.Flatten())\n",
    "\n",
    "# Thêm lớp fully connected (Dense Layer) với 64 units và hàm kích hoạt ReLU\n",
    "model.add(layers.Dense(64, activation='relu'))\n",
    "\n",
    "# Thêm lớp Dropout để giảm hiện tượng overfitting\n",
    "model.add(layers.Dropout(0.5))\n",
    "\n",
    "# Thêm lớp fully connected (Dense Layer) cuối cùng với số lớp đầu ra phụ thuộc vào bài toán của bạn\n",
    "model.add(layers.Dense(5, activation='softmax'))\n",
    "\n",
    "# In thông tin mô hình\n",
    "model.summary()\n",
    "\n",
    "# Biên dịch mô hình\n",
    "model.compile(optimizer='adam', loss='sparse_categorical_crossentropy', metrics=['accuracy'])"
   ]
  },
  {
   "cell_type": "code",
   "execution_count": 3,
   "id": "27c1700f-08ec-4562-90ad-32ae5bb43af8",
   "metadata": {},
   "outputs": [
    {
     "name": "stdout",
     "output_type": "stream",
     "text": [
      "Epoch 1/10\n",
      "WARNING:tensorflow:From C:\\Users\\ADMIN\\anaconda3\\Lib\\site-packages\\keras\\src\\utils\\tf_utils.py:492: The name tf.ragged.RaggedTensorValue is deprecated. Please use tf.compat.v1.ragged.RaggedTensorValue instead.\n",
      "\n",
      "WARNING:tensorflow:From C:\\Users\\ADMIN\\anaconda3\\Lib\\site-packages\\keras\\src\\engine\\base_layer_utils.py:384: The name tf.executing_eagerly_outside_functions is deprecated. Please use tf.compat.v1.executing_eagerly_outside_functions instead.\n",
      "\n",
      "823/823 [==============================] - 305s 368ms/step - loss: 0.9686 - accuracy: 0.6125\n",
      "Epoch 2/10\n",
      "823/823 [==============================] - 302s 367ms/step - loss: 0.6031 - accuracy: 0.7817\n",
      "Epoch 3/10\n",
      "823/823 [==============================] - 423s 515ms/step - loss: 0.5032 - accuracy: 0.8220\n",
      "Epoch 4/10\n",
      "823/823 [==============================] - 475s 577ms/step - loss: 0.4463 - accuracy: 0.8356\n",
      "Epoch 5/10\n",
      "823/823 [==============================] - 343s 417ms/step - loss: 0.4256 - accuracy: 0.8456\n",
      "Epoch 6/10\n",
      "823/823 [==============================] - 342s 416ms/step - loss: 0.3732 - accuracy: 0.8658\n",
      "Epoch 7/10\n",
      "823/823 [==============================] - 472s 574ms/step - loss: 0.3624 - accuracy: 0.8687\n",
      "Epoch 8/10\n",
      "823/823 [==============================] - 373s 453ms/step - loss: 0.3189 - accuracy: 0.8821\n",
      "Epoch 9/10\n",
      "823/823 [==============================] - 302s 367ms/step - loss: 0.3042 - accuracy: 0.8912\n",
      "Epoch 10/10\n",
      "823/823 [==============================] - 308s 375ms/step - loss: 0.2778 - accuracy: 0.9000\n"
     ]
    },
    {
     "data": {
      "text/plain": [
       "<keras.src.callbacks.History at 0x1d2aafbb450>"
      ]
     },
     "execution_count": 3,
     "metadata": {},
     "output_type": "execute_result"
    }
   ],
   "source": [
    "model.fit(X_512, y_512, epochs=10, batch_size=16)"
   ]
  },
  {
   "cell_type": "code",
   "execution_count": 4,
   "id": "e5ca5604-6899-4afa-906e-c3847ea7c5d6",
   "metadata": {
    "tags": []
   },
   "outputs": [
    {
     "name": "stdout",
     "output_type": "stream",
     "text": [
      "412/412 [==============================] - 58s 139ms/step - loss: 0.1558 - accuracy: 0.9359\n",
      "Độ chính xác trên tập kiểm tra: 0.9358955025672913\n",
      "412/412 [==============================] - 61s 147ms/step\n",
      "Ma trận nhầm lẫn:\n",
      "[[2842    0    0    0    0]\n",
      " [   0 1988   13    9   24]\n",
      " [   0    2 2724    1   81]\n",
      " [   0  271   17 1434   18]\n",
      " [   0   14  393    1 3334]]\n",
      "Báo cáo phân loại:\n",
      "              precision    recall  f1-score   support\n",
      "\n",
      "           0       1.00      1.00      1.00      2842\n",
      "           1       0.87      0.98      0.92      2034\n",
      "           2       0.87      0.97      0.91      2808\n",
      "           3       0.99      0.82      0.90      1740\n",
      "           4       0.96      0.89      0.93      3742\n",
      "\n",
      "    accuracy                           0.94     13166\n",
      "   macro avg       0.94      0.93      0.93     13166\n",
      "weighted avg       0.94      0.94      0.94     13166\n",
      "\n"
     ]
    }
   ],
   "source": [
    "import numpy as np\n",
    "# Đánh giá mô hình trên tập kiểm tra\n",
    "test_loss, test_accuracy = model.evaluate(X_test_512, y_test_512)\n",
    "print(\"Độ chính xác trên tập kiểm tra:\", test_accuracy)\n",
    "\n",
    "# Dự đoán các nhãn trên tập kiểm tra\n",
    "y_pred = model.predict(X_test_512)\n",
    "\n",
    "# Chuyển đổi dự đoán thành nhãn dự đoán (lớp dự đoán)\n",
    "y_pred_classes = np.argmax(y_pred, axis=1)\n",
    "\n",
    "# Hiển thị ma trận nhầm lẫn\n",
    "from sklearn.metrics import confusion_matrix, classification_report\n",
    "confusion = confusion_matrix(y_test_512, y_pred_classes)\n",
    "print(\"Ma trận nhầm lẫn:\")\n",
    "print(confusion)\n",
    "\n",
    "# Hiển thị báo cáo phân loại\n",
    "class_report = classification_report(y_test_512, y_pred_classes)\n",
    "print(\"Báo cáo phân loại:\")\n",
    "print(class_report)"
   ]
  }
 ],
 "metadata": {
  "kernelspec": {
   "display_name": "Python 3 (ipykernel)",
   "language": "python",
   "name": "python3"
  },
  "language_info": {
   "codemirror_mode": {
    "name": "ipython",
    "version": 3
   },
   "file_extension": ".py",
   "mimetype": "text/x-python",
   "name": "python",
   "nbconvert_exporter": "python",
   "pygments_lexer": "ipython3",
   "version": "3.11.7"
  }
 },
 "nbformat": 4,
 "nbformat_minor": 5
}
