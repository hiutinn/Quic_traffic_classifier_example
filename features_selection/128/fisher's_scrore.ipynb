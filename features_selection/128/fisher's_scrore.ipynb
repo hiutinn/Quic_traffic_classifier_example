{
 "cells": [
  {
   "cell_type": "code",
   "execution_count": 2,
   "id": "d566133c-8e2f-4145-a032-a17c52acad08",
   "metadata": {
    "tags": []
   },
   "outputs": [],
   "source": [
    "%store -r X\n",
    "%store -r y\n",
    "%store -r X_test\n",
    "%store -r y_test\n",
    "%store -r feature_names"
   ]
  },
  {
   "cell_type": "code",
   "execution_count": 3,
   "id": "d9209af5-7e99-4f7a-acff-2b5846203baa",
   "metadata": {
    "tags": []
   },
   "outputs": [],
   "source": [
    "import numpy as np\n",
    "import pandas as pd\n",
    "from skfeature.function.similarity_based import fisher_score\n",
    "\n",
    "X_2d = X.reshape(-1, X.shape[-1])\n",
    "y_2d = np.repeat(y, 20)"
   ]
  },
  {
   "cell_type": "code",
   "execution_count": 8,
   "id": "54f5473b-08dd-4332-b553-4eafcd81af7b",
   "metadata": {
    "tags": []
   },
   "outputs": [],
   "source": [
    "# Randomly sample 10% of the data\n",
    "sample_size = int(0.1 * len(X_2d))\n",
    "random_indices = np.random.choice(len(X_2d), size=sample_size, replace=False)\n",
    "X_subset = X_2d[random_indices]\n",
    "y_subset = y_2d[random_indices]"
   ]
  },
  {
   "cell_type": "code",
   "execution_count": 9,
   "id": "22a8ed3f-ad2d-45c5-9578-bbcdd67e6907",
   "metadata": {},
   "outputs": [
    {
     "data": {
      "text/plain": [
       "(26332, 128)"
      ]
     },
     "execution_count": 9,
     "metadata": {},
     "output_type": "execute_result"
    }
   ],
   "source": [
    "X_subset.shape"
   ]
  },
  {
   "cell_type": "code",
   "execution_count": 10,
   "id": "a71c58b4-b768-4219-8f22-3f75025aec8c",
   "metadata": {
    "tags": []
   },
   "outputs": [],
   "source": [
    "# Calculating scores\n",
    "ranks = fisher_score.fisher_score(X_subset, y_subset)"
   ]
  },
  {
   "cell_type": "code",
   "execution_count": 11,
   "id": "595c8827-6b29-4eb3-92fe-6a7a5db7999b",
   "metadata": {
    "tags": []
   },
   "outputs": [
    {
     "data": {
      "text/plain": [
       "array([110, 114, 113, 112, 108, 109, 111,   8,   4,   2,   9,  18,  16,\n",
       "        17,  48,  11,  41,  61,   5,  12,   7,  13,  15,   3,  32,  31,\n",
       "        45,  34,   6,  20,  14,  54,  33,   0,   1,  37,  24,  25,  21,\n",
       "        27,  43,  10,  28,  58,  36,  38,  51,  60,  56,  39,  40,  22,\n",
       "        19,  35,  52,  30,  44,  62,  42,  46,  57,  47, 115,  50,  26,\n",
       "        59,  53,  55,  23,  49,  29, 125,  95,  84,  92,  69,  98, 106,\n",
       "        76,  89,  88,  85,  64, 104,  73,  68,  99,  80,  65,  72,  83,\n",
       "       100,  66,  97,  67,  87, 103,  91,  86,  94,  96,  82,  81,  71,\n",
       "        78,  93,  77,  90,  79,  70,  75,  63, 107,  74, 101, 127, 105,\n",
       "       126, 102, 121, 120, 116, 124, 117, 122, 119, 118, 123])"
      ]
     },
     "execution_count": 11,
     "metadata": {},
     "output_type": "execute_result"
    }
   ],
   "source": [
    "ranks"
   ]
  },
  {
   "cell_type": "code",
   "execution_count": 12,
   "id": "13a9b014-94c1-442c-953e-f52d4f743fc7",
   "metadata": {
    "tags": []
   },
   "outputs": [
    {
     "data": {
      "text/plain": [
       "<Axes: >"
      ]
     },
     "execution_count": 12,
     "metadata": {},
     "output_type": "execute_result"
    },
    {
     "data": {
      "image/png": "[encoded data removed]",
      "text/plain": [
       "<Figure size 640x480 with 1 Axes>"
      ]
     },
     "metadata": {},
     "output_type": "display_data"
    }
   ],
   "source": [
    "feat_importances = pd.Series(ranks, feature_names)\n",
    "feat_importances[100:].plot(kind='barh', color='teal')"
   ]
  },
  {
   "cell_type": "code",
   "execution_count": 13,
   "id": "6ab7d348-4c70-4093-8541-035ee6ff83c3",
   "metadata": {
    "tags": []
   },
   "outputs": [],
   "source": [
    "# Create a dictionary of feature importance scores\n",
    "feature_ranks = {}\n",
    "for i in range(len(feature_names)):\n",
    "    feature_ranks[feature_names[i]] = ranks[i]"
   ]
  },
  {
   "cell_type": "code",
   "execution_count": 14,
   "id": "e3b4fa1a-cbcf-4c60-826a-9b32f877f106",
   "metadata": {
    "tags": []
   },
   "outputs": [
    {
     "name": "stdout",
     "output_type": "stream",
     "text": [
      "Feature: 33 Rank: 0\n",
      "Feature: 34 Rank: 1\n",
      "Feature: 9 Rank: 2\n",
      "Feature: 23 Rank: 3\n",
      "Feature: 8 Rank: 4\n",
      "Feature: 18 Rank: 5\n",
      "Feature: 28 Rank: 6\n",
      "Feature: 20 Rank: 7\n",
      "Feature: 7 Rank: 8\n",
      "Feature: 10 Rank: 9\n",
      "Feature: 41 Rank: 10\n",
      "Feature: 15 Rank: 11\n",
      "Feature: 19 Rank: 12\n",
      "Feature: 21 Rank: 13\n",
      "Feature: 30 Rank: 14\n",
      "Feature: 22 Rank: 15\n",
      "Feature: 12 Rank: 16\n",
      "Feature: 13 Rank: 17\n",
      "Feature: 11 Rank: 18\n",
      "Feature: 52 Rank: 19\n",
      "Feature: 29 Rank: 20\n",
      "Feature: 38 Rank: 21\n",
      "Feature: 51 Rank: 22\n",
      "Feature: 68 Rank: 23\n",
      "Feature: 36 Rank: 24\n",
      "Feature: 37 Rank: 25\n",
      "Feature: 64 Rank: 26\n",
      "Feature: 39 Rank: 27\n",
      "Feature: 42 Rank: 28\n",
      "Feature: 70 Rank: 29\n",
      "Feature: 55 Rank: 30\n",
      "Feature: 25 Rank: 31\n",
      "Feature: 24 Rank: 32\n",
      "Feature: 32 Rank: 33\n",
      "Feature: 27 Rank: 34\n",
      "Feature: 53 Rank: 35\n",
      "Feature: 44 Rank: 36\n",
      "Feature: 35 Rank: 37\n",
      "Feature: 45 Rank: 38\n",
      "Feature: 49 Rank: 39\n",
      "Feature: 50 Rank: 40\n",
      "Feature: 16 Rank: 41\n",
      "Feature: 58 Rank: 42\n",
      "Feature: 40 Rank: 43\n",
      "Feature: 56 Rank: 44\n",
      "Feature: 26 Rank: 45\n",
      "Feature: 59 Rank: 46\n",
      "Feature: 61 Rank: 47\n",
      "Feature: 14 Rank: 48\n",
      "Feature: 69 Rank: 49\n",
      "Feature: 63 Rank: 50\n",
      "Feature: 46 Rank: 51\n",
      "Feature: 54 Rank: 52\n",
      "Feature: 66 Rank: 53\n",
      "Feature: 31 Rank: 54\n",
      "Feature: 67 Rank: 55\n",
      "Feature: 48 Rank: 56\n",
      "Feature: 60 Rank: 57\n",
      "Feature: 43 Rank: 58\n",
      "Feature: 65 Rank: 59\n",
      "Feature: 47 Rank: 60\n",
      "Feature: 17 Rank: 61\n",
      "Feature: 57 Rank: 62\n",
      "Feature: 111 Rank: 63\n",
      "Feature: 82 Rank: 64\n",
      "Feature: 88 Rank: 65\n",
      "Feature: 92 Rank: 66\n",
      "Feature: 94 Rank: 67\n",
      "Feature: 85 Rank: 68\n",
      "Feature: 75 Rank: 69\n",
      "Feature: 109 Rank: 70\n",
      "Feature: 103 Rank: 71\n",
      "Feature: 89 Rank: 72\n",
      "Feature: 84 Rank: 73\n",
      "Feature: 113 Rank: 74\n",
      "Feature: 110 Rank: 75\n",
      "Feature: 78 Rank: 76\n",
      "Feature: 106 Rank: 77\n",
      "Feature: 104 Rank: 78\n",
      "Feature: 108 Rank: 79\n",
      "Feature: 87 Rank: 80\n",
      "Feature: 102 Rank: 81\n",
      "Feature: 101 Rank: 82\n",
      "Feature: 90 Rank: 83\n",
      "Feature: 73 Rank: 84\n",
      "Feature: 81 Rank: 85\n",
      "Feature: 98 Rank: 86\n",
      "Feature: 95 Rank: 87\n",
      "Feature: 80 Rank: 88\n",
      "Feature: 79 Rank: 89\n",
      "Feature: 107 Rank: 90\n",
      "Feature: 97 Rank: 91\n",
      "Feature: 74 Rank: 92\n",
      "Feature: 105 Rank: 93\n",
      "Feature: 99 Rank: 94\n",
      "Feature: 72 Rank: 95\n",
      "Feature: 100 Rank: 96\n",
      "Feature: 93 Rank: 97\n",
      "Feature: 76 Rank: 98\n",
      "Feature: 86 Rank: 99\n",
      "Feature: 91 Rank: 100\n",
      "Feature: 114 Rank: 101\n",
      "Feature: 118 Rank: 102\n",
      "Feature: 96 Rank: 103\n",
      "Feature: 83 Rank: 104\n",
      "Feature: 116 Rank: 105\n",
      "Feature: 77 Rank: 106\n",
      "Feature: 112 Rank: 107\n",
      "Feature: 4 Rank: 108\n",
      "Feature: 5 Rank: 109\n",
      "Feature: 0 Rank: 110\n",
      "Feature: 6 Rank: 111\n",
      "Feature: 3 Rank: 112\n",
      "Feature: 2 Rank: 113\n",
      "Feature: 1 Rank: 114\n",
      "Feature: 62 Rank: 115\n",
      "Feature: 121 Rank: 116\n",
      "Feature: 123 Rank: 117\n",
      "Feature: 126 Rank: 118\n",
      "Feature: 125 Rank: 119\n",
      "Feature: 120 Rank: 120\n",
      "Feature: 119 Rank: 121\n",
      "Feature: 124 Rank: 122\n",
      "Feature: 127 Rank: 123\n",
      "Feature: 122 Rank: 124\n",
      "Feature: 71 Rank: 125\n",
      "Feature: 117 Rank: 126\n",
      "Feature: 115 Rank: 127\n"
     ]
    }
   ],
   "source": [
    "# Sort the features by importance score in descending order\n",
    "sorted_features = sorted(feature_ranks.items(), key=lambda x: x[1], reverse=False)\n",
    "\n",
    "# Print the feature importance scores and the sorted features\n",
    "for feature, score in sorted_features:\n",
    "    print('Feature:', feature, 'Rank:', score)"
   ]
  },
  {
   "cell_type": "code",
   "execution_count": null,
   "id": "370a0935-847d-4870-b587-fc845792e22b",
   "metadata": {},
   "outputs": [],
   "source": []
  }
 ],
 "metadata": {
  "kernelspec": {
   "display_name": "Python 3 (ipykernel)",
   "language": "python",
   "name": "python3"
  },
  "language_info": {
   "codemirror_mode": {
    "name": "ipython",
    "version": 3
   },
   "file_extension": ".py",
   "mimetype": "text/x-python",
   "name": "python",
   "nbconvert_exporter": "python",
   "pygments_lexer": "ipython3",
   "version": "3.11.5"
  }
 },
 "nbformat": 4,
 "nbformat_minor": 5
}
