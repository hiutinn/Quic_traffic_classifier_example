{
 "cells": [
  {
   "cell_type": "code",
   "execution_count": 1,
   "id": "a709f7bb-1caf-4e0e-9b15-07aa0b4199de",
   "metadata": {},
   "outputs": [],
   "source": [
    "%store -r X_Transfer\n",
    "%store -r y_Transfer\n",
    "%store -r X_Transfer_test\n",
    "%store -r y_Transfer_test"
   ]
  },
  {
   "cell_type": "code",
   "execution_count": 2,
   "id": "f26b39bf-7d7a-470c-92ae-b59f1cf16818",
   "metadata": {
    "tags": []
   },
   "outputs": [
    {
     "name": "stdout",
     "output_type": "stream",
     "text": [
      "Model: \"sequential\"\n",
      "_________________________________________________________________\n",
      " Layer (type)                Output Shape              Param #   \n",
      "=================================================================\n",
      " conv2d (Conv2D)             (None, 20, 128, 32)       832       \n",
      "                                                                 \n",
      " conv2d_1 (Conv2D)           (None, 20, 128, 32)       25632     \n",
      "                                                                 \n",
      " max_pooling2d (MaxPooling2  (None, 10, 64, 32)        0         \n",
      " D)                                                              \n",
      "                                                                 \n",
      " dropout (Dropout)           (None, 10, 64, 32)        0         \n",
      "                                                                 \n",
      " conv2d_2 (Conv2D)           (None, 10, 64, 64)        51264     \n",
      "                                                                 \n",
      " conv2d_3 (Conv2D)           (None, 10, 64, 64)        102464    \n",
      "                                                                 \n",
      " max_pooling2d_1 (MaxPoolin  (None, 5, 32, 64)         0         \n",
      " g2D)                                                            \n",
      "                                                                 \n",
      " flatten (Flatten)           (None, 10240)             0         \n",
      "                                                                 \n",
      " dense (Dense)               (None, 64)                655424    \n",
      "                                                                 \n",
      " dropout_1 (Dropout)         (None, 64)                0         \n",
      "                                                                 \n",
      " dense_1 (Dense)             (None, 4)                 260       \n",
      "                                                                 \n",
      "=================================================================\n",
      "Total params: 835876 (3.19 MB)\n",
      "Trainable params: 835876 (3.19 MB)\n",
      "Non-trainable params: 0 (0.00 Byte)\n",
      "_________________________________________________________________\n"
     ]
    }
   ],
   "source": [
    "import tensorflow as tf\n",
    "from tensorflow import keras\n",
    "from tensorflow.keras import layers\n",
    "\n",
    "# Khởi tạo mô hình\n",
    "model = keras.Sequential()\n",
    "\n",
    "# Thêm lớp Convolutional Layer với 32 bộ lọc kích thước 5x5 và hàm kích hoạt ReLU\n",
    "model.add(layers.Conv2D(32, (5, 5), activation='relu', input_shape=(20, 128, 1), padding='same'))\n",
    "\n",
    "# Thêm lớp Convolutional Layer với 32 bộ lọc kích thước 5x5 và hàm kích hoạt ReLU\n",
    "model.add(layers.Conv2D(32, (5,5), activation='relu', padding='same'))\n",
    "\n",
    "# Thêm lớp Max Pooling 2D để giảm kích thước đầu vào đi 2 lần\n",
    "model.add(layers.MaxPooling2D((2, 2)))\n",
    "\n",
    "# Thêm lớp Dropout để giảm hiện tượng overfitting\n",
    "model.add(layers.Dropout(0.5))\n",
    "\n",
    "# Thêm lớp Convolutional Layer với 64 bộ lọc kích thước 5x5 và hàm kích hoạt ReLU\n",
    "model.add(layers.Conv2D(64, (5, 5), activation='relu', padding='same'))\n",
    "\n",
    "# Thêm lớp Convolutional Layer với 64 bộ lọc kích thước 5x5 và hàm kích hoạt ReLU\n",
    "model.add(layers.Conv2D(64, (5, 5), activation='relu', padding='same'))\n",
    "\n",
    "# Thêm lớp Max Pooling 2D để giảm kích thước đầu vào đi 2 lần\n",
    "model.add(layers.MaxPooling2D((2, 2)))\n",
    "\n",
    "# Thêm lớp Flatten để làm phẳng đầu ra của lớp trước khi đi vào các lớp fully connected\n",
    "model.add(layers.Flatten())\n",
    "\n",
    "# Thêm lớp fully connected (Dense Layer) với 64 units và hàm kích hoạt ReLU\n",
    "model.add(layers.Dense(64, activation='relu'))\n",
    "\n",
    "# Thêm lớp Dropout để giảm hiện tượng overfitting\n",
    "model.add(layers.Dropout(0.5))\n",
    "\n",
    "# Thêm lớp fully connected (Dense Layer) cuối cùng với số lớp đầu ra phụ thuộc vào bài toán của bạn\n",
    "model.add(layers.Dense(4, activation='softmax'))\n",
    "\n",
    "# In thông tin mô hình\n",
    "model.summary()\n",
    "\n",
    "# Biên dịch mô hình\n",
    "model.compile(optimizer='adam', loss='sparse_categorical_crossentropy', metrics=['accuracy'])\n"
   ]
  },
  {
   "cell_type": "code",
   "execution_count": 3,
   "id": "f012f1cf-1573-4cc2-8c00-dabd6cc96a7a",
   "metadata": {
    "tags": []
   },
   "outputs": [
    {
     "name": "stdout",
     "output_type": "stream",
     "text": [
      "Epoch 1/10\n",
      "295/295 [==============================] - 161s 541ms/step - loss: 0.5595 - accuracy: 0.7967 - val_loss: 0.2302 - val_accuracy: 0.9224\n",
      "Epoch 2/10\n",
      "295/295 [==============================] - 150s 507ms/step - loss: 0.2790 - accuracy: 0.9093 - val_loss: 0.1529 - val_accuracy: 0.9410\n",
      "Epoch 3/10\n",
      "295/295 [==============================] - 154s 524ms/step - loss: 0.2440 - accuracy: 0.9165 - val_loss: 0.1688 - val_accuracy: 0.9365\n",
      "Epoch 4/10\n",
      "295/295 [==============================] - 150s 510ms/step - loss: 0.2076 - accuracy: 0.9319 - val_loss: 0.1304 - val_accuracy: 0.9465\n",
      "Epoch 5/10\n",
      "295/295 [==============================] - 153s 520ms/step - loss: 0.1985 - accuracy: 0.9321 - val_loss: 0.1343 - val_accuracy: 0.9481\n",
      "Epoch 6/10\n",
      "295/295 [==============================] - 154s 523ms/step - loss: 0.1828 - accuracy: 0.9361 - val_loss: 0.1403 - val_accuracy: 0.9456\n",
      "Epoch 7/10\n",
      "295/295 [==============================] - 164s 557ms/step - loss: 0.1753 - accuracy: 0.9373 - val_loss: 0.1154 - val_accuracy: 0.9507\n",
      "Epoch 8/10\n",
      "295/295 [==============================] - 166s 564ms/step - loss: 0.1649 - accuracy: 0.9415 - val_loss: 0.1215 - val_accuracy: 0.9511\n",
      "Epoch 9/10\n",
      "295/295 [==============================] - 155s 526ms/step - loss: 0.1559 - accuracy: 0.9413 - val_loss: 0.1074 - val_accuracy: 0.9563\n",
      "Epoch 10/10\n",
      "295/295 [==============================] - 162s 549ms/step - loss: 0.1578 - accuracy: 0.9424 - val_loss: 0.1217 - val_accuracy: 0.9529\n"
     ]
    },
    {
     "data": {
      "text/plain": [
       "<keras.src.callbacks.History at 0x21a5a6e9250>"
      ]
     },
     "execution_count": 3,
     "metadata": {},
     "output_type": "execute_result"
    }
   ],
   "source": [
    "model.fit(X_Transfer, y_Transfer, epochs=10, validation_data=(X_Transfer, y_Transfer))"
   ]
  },
  {
   "cell_type": "code",
   "execution_count": 4,
   "id": "d1e82f45-ed61-4b5e-8d5d-686677e3e9c6",
   "metadata": {},
   "outputs": [
    {
     "name": "stdout",
     "output_type": "stream",
     "text": [
      "Stored 'model' (Sequential)\n"
     ]
    }
   ],
   "source": [
    "%store model"
   ]
  },
  {
   "cell_type": "code",
   "execution_count": null,
   "id": "384cea31-7a32-4ff5-bc4d-ce855f59a892",
   "metadata": {},
   "outputs": [],
   "source": []
  }
 ],
 "metadata": {
  "kernelspec": {
   "display_name": "Python 3 (ipykernel)",
   "language": "python",
   "name": "python3"
  },
  "language_info": {
   "codemirror_mode": {
    "name": "ipython",
    "version": 3
   },
   "file_extension": ".py",
   "mimetype": "text/x-python",
   "name": "python",
   "nbconvert_exporter": "python",
   "pygments_lexer": "ipython3",
   "version": "3.11.4"
  }
 },
 "nbformat": 4,
 "nbformat_minor": 5
}
