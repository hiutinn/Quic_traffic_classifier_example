{
 "cells": [
  {
   "cell_type": "code",
   "execution_count": 1,
   "id": "6156bc5a-2e8c-4b07-81de-facf1d7b4e61",
   "metadata": {
    "tags": []
   },
   "outputs": [],
   "source": [
    "import numpy as np"
   ]
  },
  {
   "cell_type": "code",
   "execution_count": 2,
   "id": "1fdc1036-15e2-4956-80f1-f990a1a00c1c",
   "metadata": {
    "tags": []
   },
   "outputs": [],
   "source": [
    "%store -r X\n",
    "%store -r y\n",
    "%store -r X_test\n",
    "%store -r y_test"
   ]
  },
  {
   "cell_type": "markdown",
   "id": "4d53ee1a-2408-4b74-8600-32c641a74573",
   "metadata": {},
   "source": [
    "# Xây dựng mô hình CNN"
   ]
  },
  {
   "cell_type": "code",
   "execution_count": 3,
   "id": "6e8e4deb-cea6-4a29-8699-ffe0e451058c",
   "metadata": {},
   "outputs": [
    {
     "name": "stdout",
     "output_type": "stream",
     "text": [
      "WARNING:tensorflow:From C:\\Users\\ADMIN\\anaconda3\\Lib\\site-packages\\keras\\src\\losses.py:2976: The name tf.losses.sparse_softmax_cross_entropy is deprecated. Please use tf.compat.v1.losses.sparse_softmax_cross_entropy instead.\n",
      "\n",
      "WARNING:tensorflow:From C:\\Users\\ADMIN\\anaconda3\\Lib\\site-packages\\keras\\src\\backend.py:873: The name tf.get_default_graph is deprecated. Please use tf.compat.v1.get_default_graph instead.\n",
      "\n",
      "WARNING:tensorflow:From C:\\Users\\ADMIN\\anaconda3\\Lib\\site-packages\\keras\\src\\layers\\pooling\\max_pooling2d.py:161: The name tf.nn.max_pool is deprecated. Please use tf.nn.max_pool2d instead.\n",
      "\n",
      "Model: \"sequential\"\n",
      "_________________________________________________________________\n",
      " Layer (type)                Output Shape              Param #   \n",
      "=================================================================\n",
      " conv2d (Conv2D)             (None, 20, 128, 32)       832       \n",
      "                                                                 \n",
      " conv2d_1 (Conv2D)           (None, 20, 128, 32)       25632     \n",
      "                                                                 \n",
      " max_pooling2d (MaxPooling2  (None, 10, 64, 32)        0         \n",
      " D)                                                              \n",
      "                                                                 \n",
      " dropout (Dropout)           (None, 10, 64, 32)        0         \n",
      "                                                                 \n",
      " conv2d_2 (Conv2D)           (None, 10, 64, 64)        51264     \n",
      "                                                                 \n",
      " conv2d_3 (Conv2D)           (None, 10, 64, 64)        102464    \n",
      "                                                                 \n",
      " max_pooling2d_1 (MaxPoolin  (None, 5, 32, 64)         0         \n",
      " g2D)                                                            \n",
      "                                                                 \n",
      " flatten (Flatten)           (None, 10240)             0         \n",
      "                                                                 \n",
      " dense (Dense)               (None, 64)                655424    \n",
      "                                                                 \n",
      " dropout_1 (Dropout)         (None, 64)                0         \n",
      "                                                                 \n",
      " dense_1 (Dense)             (None, 5)                 325       \n",
      "                                                                 \n",
      "=================================================================\n",
      "Total params: 835941 (3.19 MB)\n",
      "Trainable params: 835941 (3.19 MB)\n",
      "Non-trainable params: 0 (0.00 Byte)\n",
      "_________________________________________________________________\n",
      "WARNING:tensorflow:From C:\\Users\\ADMIN\\anaconda3\\Lib\\site-packages\\keras\\src\\optimizers\\__init__.py:309: The name tf.train.Optimizer is deprecated. Please use tf.compat.v1.train.Optimizer instead.\n",
      "\n"
     ]
    }
   ],
   "source": [
    "import tensorflow as tf\n",
    "from tensorflow import keras\n",
    "from tensorflow.keras import layers\n",
    "\n",
    "# Khởi tạo mô hình\n",
    "model = keras.Sequential()\n",
    "\n",
    "# Thêm lớp Convolutional Layer với 32 bộ lọc kích thước 5x5 và hàm kích hoạt ReLU\n",
    "model.add(layers.Conv2D(32, (5, 5), activation='relu', input_shape=(20, 128, 1), padding='same'))\n",
    "\n",
    "# Thêm lớp Convolutional Layer với 32 bộ lọc kích thước 5x5 và hàm kích hoạt ReLU\n",
    "model.add(layers.Conv2D(32, (5,5), activation='relu', padding='same'))\n",
    "\n",
    "# Thêm lớp Max Pooling 2D để giảm kích thước đầu vào đi 2 lần\n",
    "model.add(layers.MaxPooling2D((2, 2)))\n",
    "\n",
    "# Thêm lớp Dropout để giảm hiện tượng overfitting\n",
    "model.add(layers.Dropout(0.5))\n",
    "\n",
    "# Thêm lớp Convolutional Layer với 64 bộ lọc kích thước 3x3 và hàm kích hoạt ReLU\n",
    "model.add(layers.Conv2D(64, (5, 5), activation='relu', padding='same'))\n",
    "\n",
    "# Thêm lớp Convolutional Layer với 64 bộ lọc kích thước 3x3 và hàm kích hoạt ReLU\n",
    "model.add(layers.Conv2D(64, (5, 5), activation='relu', padding='same'))\n",
    "\n",
    "# Thêm lớp Max Pooling 2D để giảm kích thước đầu vào đi 2 lần\n",
    "model.add(layers.MaxPooling2D((2, 2)))\n",
    "\n",
    "# Thêm lớp Flatten để làm phẳng đầu ra của lớp trước khi đi vào các lớp fully connected\n",
    "model.add(layers.Flatten())\n",
    "\n",
    "# Thêm lớp fully connected (Dense Layer) với 64 units và hàm kích hoạt ReLU\n",
    "model.add(layers.Dense(64, activation='relu'))\n",
    "\n",
    "# Thêm lớp Dropout để giảm hiện tượng overfitting\n",
    "model.add(layers.Dropout(0.5))\n",
    "\n",
    "# Thêm lớp fully connected (Dense Layer) cuối cùng với số lớp đầu ra phụ thuộc vào bài toán của bạn\n",
    "model.add(layers.Dense(5, activation='softmax'))\n",
    "\n",
    "# In thông tin mô hình\n",
    "model.summary()\n",
    "\n",
    "# Biên dịch mô hình\n",
    "model.compile(optimizer='adam', loss='sparse_categorical_crossentropy', metrics=['accuracy'])\n"
   ]
  },
  {
   "cell_type": "code",
   "execution_count": 4,
   "id": "40d77d09-c2e1-4ff4-88c2-a8460aa55fed",
   "metadata": {},
   "outputs": [
    {
     "name": "stdout",
     "output_type": "stream",
     "text": [
      "Epoch 1/10\n",
      "WARNING:tensorflow:From C:\\Users\\ADMIN\\anaconda3\\Lib\\site-packages\\keras\\src\\utils\\tf_utils.py:492: The name tf.ragged.RaggedTensorValue is deprecated. Please use tf.compat.v1.ragged.RaggedTensorValue instead.\n",
      "\n",
      "WARNING:tensorflow:From C:\\Users\\ADMIN\\anaconda3\\Lib\\site-packages\\keras\\src\\engine\\base_layer_utils.py:384: The name tf.executing_eagerly_outside_functions is deprecated. Please use tf.compat.v1.executing_eagerly_outside_functions instead.\n",
      "\n",
      "412/412 [==============================] - 80s 191ms/step - loss: 0.9411 - accuracy: 0.6244 - val_loss: 0.4162 - val_accuracy: 0.8532\n",
      "Epoch 2/10\n",
      "412/412 [==============================] - 70s 171ms/step - loss: 0.5348 - accuracy: 0.7895 - val_loss: 0.2891 - val_accuracy: 0.8821\n",
      "Epoch 3/10\n",
      "412/412 [==============================] - 70s 169ms/step - loss: 0.4596 - accuracy: 0.8149 - val_loss: 0.2668 - val_accuracy: 0.8915\n",
      "Epoch 4/10\n",
      "412/412 [==============================] - 69s 168ms/step - loss: 0.4221 - accuracy: 0.8297 - val_loss: 0.2276 - val_accuracy: 0.9119\n",
      "Epoch 5/10\n",
      "412/412 [==============================] - 69s 168ms/step - loss: 0.3905 - accuracy: 0.8423 - val_loss: 0.2349 - val_accuracy: 0.9152\n",
      "Epoch 6/10\n",
      "412/412 [==============================] - 69s 169ms/step - loss: 0.3623 - accuracy: 0.8588 - val_loss: 0.2178 - val_accuracy: 0.9156\n",
      "Epoch 7/10\n",
      "412/412 [==============================] - 69s 168ms/step - loss: 0.3508 - accuracy: 0.8637 - val_loss: 0.2006 - val_accuracy: 0.9237\n",
      "Epoch 8/10\n",
      "412/412 [==============================] - 77s 187ms/step - loss: 0.3262 - accuracy: 0.8706 - val_loss: 0.1886 - val_accuracy: 0.9253\n",
      "Epoch 9/10\n",
      "412/412 [==============================] - 80s 195ms/step - loss: 0.3159 - accuracy: 0.8700 - val_loss: 0.1722 - val_accuracy: 0.9326\n",
      "Epoch 10/10\n",
      "412/412 [==============================] - 71s 173ms/step - loss: 0.3064 - accuracy: 0.8739 - val_loss: 0.1932 - val_accuracy: 0.9344\n"
     ]
    },
    {
     "data": {
      "text/plain": [
       "<keras.src.callbacks.History at 0x1f39c8ea7d0>"
      ]
     },
     "execution_count": 4,
     "metadata": {},
     "output_type": "execute_result"
    }
   ],
   "source": [
    "model.fit(X, y, epochs=10, validation_data=(X, y))"
   ]
  },
  {
   "cell_type": "code",
   "execution_count": 6,
   "id": "e58f5d88-0f95-4866-aa6b-243adda7b713",
   "metadata": {},
   "outputs": [
    {
     "name": "stdout",
     "output_type": "stream",
     "text": [
      "412/412 [==============================] - 17s 42ms/step - loss: 0.1932 - accuracy: 0.9344\n",
      "Độ chính xác trên tập kiểm tra: 0.9343764185905457\n",
      "412/412 [==============================] - 18s 44ms/step\n",
      "Ma trận nhầm lẫn:\n",
      "[[2842    0    0    0    0]\n",
      " [   6 1976    7    8   37]\n",
      " [   2   22 2578    1  205]\n",
      " [   0  360    9 1366    5]\n",
      " [   0   33  169    0 3540]]\n",
      "Báo cáo phân loại:\n",
      "              precision    recall  f1-score   support\n",
      "\n",
      "           0       1.00      1.00      1.00      2842\n",
      "           1       0.83      0.97      0.89      2034\n",
      "           2       0.93      0.92      0.93      2808\n",
      "           3       0.99      0.79      0.88      1740\n",
      "           4       0.93      0.95      0.94      3742\n",
      "\n",
      "    accuracy                           0.93     13166\n",
      "   macro avg       0.94      0.92      0.93     13166\n",
      "weighted avg       0.94      0.93      0.93     13166\n",
      "\n"
     ]
    }
   ],
   "source": [
    "# Đánh giá mô hình trên tập kiểm tra\n",
    "test_loss, test_accuracy = model.evaluate(X_test, y_test)\n",
    "print(\"Độ chính xác trên tập kiểm tra:\", test_accuracy)\n",
    "\n",
    "# Dự đoán các nhãn trên tập kiểm tra\n",
    "y_pred = model.predict(X_test)\n",
    "\n",
    "# Chuyển đổi dự đoán thành nhãn dự đoán (lớp dự đoán)\n",
    "y_pred_classes = np.argmax(y_pred, axis=1)\n",
    "\n",
    "# Hiển thị ma trận nhầm lẫn\n",
    "from sklearn.metrics import confusion_matrix, classification_report\n",
    "confusion = confusion_matrix(y_test, y_pred_classes)\n",
    "print(\"Ma trận nhầm lẫn:\")\n",
    "print(confusion)\n",
    "\n",
    "# Hiển thị báo cáo phân loại\n",
    "class_report = classification_report(y_test, y_pred_classes)\n",
    "print(\"Báo cáo phân loại:\")\n",
    "print(class_report)\n"
   ]
  },
  {
   "cell_type": "code",
   "execution_count": null,
   "id": "57393e21-e5ba-4f9f-bc23-bf4ad9e8ac50",
   "metadata": {},
   "outputs": [],
   "source": []
  }
 ],
 "metadata": {
  "kernelspec": {
   "display_name": "Python 3 (ipykernel)",
   "language": "python",
   "name": "python3"
  },
  "language_info": {
   "codemirror_mode": {
    "name": "ipython",
    "version": 3
   },
   "file_extension": ".py",
   "mimetype": "text/x-python",
   "name": "python",
   "nbconvert_exporter": "python",
   "pygments_lexer": "ipython3",
   "version": "3.11.5"
  }
 },
 "nbformat": 4,
 "nbformat_minor": 5
}
