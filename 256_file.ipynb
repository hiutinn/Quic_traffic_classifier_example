{
 "cells": [
  {
   "cell_type": "code",
   "execution_count": 1,
   "id": "da5ac468-4cc8-4854-8449-490462d0fba5",
   "metadata": {},
   "outputs": [],
   "source": [
    "import pandas as pd\n",
    "import numpy as np\n",
    "\n",
    "# Đường dẫn đến file feather cần đọc\n",
    "file_path = 'data/Train/GQUIC_train_256.feather'\n",
    "\n",
    "# Đọc file feather\n",
    "df = pd.read_feather(file_path)"
   ]
  },
  {
   "cell_type": "code",
   "execution_count": 2,
   "id": "25fd93a3-b8bf-4897-a885-c9266fc5bbcc",
   "metadata": {},
   "outputs": [],
   "source": [
    "# Chọn cột '0' đến '127' cho mỗi flow_id và chuyển thành một danh sách các ma trận\n",
    "matrices = []\n",
    "labels = []\n",
    "for flow_id, group in df.groupby('flow_id'):\n",
    "    matrix = group.loc[:, '0':'255'].values\n",
    "    label = group['Label'].values[0] \n",
    "    matrices.append(matrix)\n",
    "    labels.append(label)\n",
    "\n",
    "# Chuyển danh sách ma trận thành mảng NumPy\n",
    "X = np.array(matrices)\n",
    "X_256 = X / 255\n",
    "y_256 = np.array(labels)"
   ]
  },
  {
   "cell_type": "code",
   "execution_count": 3,
   "id": "f0a8fd66-9647-4363-88fe-1f9b53ac37b5",
   "metadata": {},
   "outputs": [
    {
     "name": "stdout",
     "output_type": "stream",
     "text": [
      "Stored 'feature_names_256' (Index)\n"
     ]
    }
   ],
   "source": [
    "feature_names = df.columns\n",
    "feature_names_256 = feature_names[1:257]\n",
    "feature_names_256\n",
    "%store feature_names_256"
   ]
  },
  {
   "cell_type": "code",
   "execution_count": 4,
   "id": "9bb12be4-780e-4b70-a770-9fa609a57fe0",
   "metadata": {},
   "outputs": [
    {
     "name": "stdout",
     "output_type": "stream",
     "text": [
      "Stored 'X_256' (ndarray)\n",
      "Stored 'y_256' (ndarray)\n"
     ]
    }
   ],
   "source": [
    "%store X_256\n",
    "%store y_256"
   ]
  },
  {
   "cell_type": "code",
   "execution_count": 5,
   "id": "54fdb162-f448-4852-86ce-c48c3d7e4b94",
   "metadata": {},
   "outputs": [],
   "source": [
    "# Đường dẫn đến file feather cần đọc\n",
    "file_path_test = 'data/Test/GQUIC_test_256.feather'\n",
    "\n",
    "# Đọc file feather\n",
    "df_test = pd.read_feather(file_path)"
   ]
  },
  {
   "cell_type": "code",
   "execution_count": 6,
   "id": "06f2dcd3-4fbb-4f7a-acd3-60b4f1d25602",
   "metadata": {},
   "outputs": [],
   "source": [
    "# Chọn cột '0' đến '127' cho mỗi flow_id và chuyển thành một danh sách các ma trận\n",
    "matrices_test = []\n",
    "labels_test = []\n",
    "for flow_id, group in df.groupby('flow_id'):\n",
    "    matrix = group.loc[:, '0':'255'].values\n",
    "    label = group['Label'].values[0] \n",
    "    matrices_test.append(matrix)\n",
    "    labels_test.append(label)\n",
    "\n",
    "# Chuyển danh sách ma trận thành mảng NumPy\n",
    "X_test = np.array(matrices_test)\n",
    "X_test_256 = X_test / 255\n",
    "y_test_256 = np.array(labels_test)"
   ]
  },
  {
   "cell_type": "code",
   "execution_count": 7,
   "id": "51f6b6f8-b45f-44b4-b8e7-4d8861e5c1db",
   "metadata": {},
   "outputs": [
    {
     "name": "stdout",
     "output_type": "stream",
     "text": [
      "Stored 'X_test_256' (ndarray)\n",
      "Stored 'y_test_256' (ndarray)\n"
     ]
    }
   ],
   "source": [
    "%store X_test_256\n",
    "%store y_test_256"
   ]
  }
 ],
 "metadata": {
  "kernelspec": {
   "display_name": "Python 3 (ipykernel)",
   "language": "python",
   "name": "python3"
  },
  "language_info": {
   "codemirror_mode": {
    "name": "ipython",
    "version": 3
   },
   "file_extension": ".py",
   "mimetype": "text/x-python",
   "name": "python",
   "nbconvert_exporter": "python",
   "pygments_lexer": "ipython3",
   "version": "3.11.7"
  }
 },
 "nbformat": 4,
 "nbformat_minor": 5
}
