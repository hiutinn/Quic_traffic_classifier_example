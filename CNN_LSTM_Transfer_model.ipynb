{
 "cells": [
  {
   "cell_type": "code",
   "execution_count": 1,
   "id": "2f7732be-8f71-4b82-a0d3-6380cf984687",
   "metadata": {},
   "outputs": [],
   "source": [
    "import numpy as np\n",
    "import tensorflow as tf\n",
    "from tensorflow.keras.models import Sequential\n",
    "from tensorflow.keras.layers import Conv1D, MaxPooling1D, LSTM, Dense, Flatten, Reshape"
   ]
  },
  {
   "cell_type": "code",
   "execution_count": 2,
   "id": "9c102a8f-c34b-46b2-8014-7601dee4c4fe",
   "metadata": {},
   "outputs": [],
   "source": [
    "%store -r X_Transfer\n",
    "%store -r y_Transfer\n",
    "%store -r X_Transfer_test\n",
    "%store -r y_Transfer_test"
   ]
  },
  {
   "cell_type": "code",
   "execution_count": 3,
   "id": "a6cf154e-e7b1-48b1-857f-d1981f20e209",
   "metadata": {},
   "outputs": [
    {
     "name": "stdout",
     "output_type": "stream",
     "text": [
      "Model: \"sequential\"\n",
      "_________________________________________________________________\n",
      " Layer (type)                Output Shape              Param #   \n",
      "=================================================================\n",
      " conv1d (Conv1D)             (None, 20, 32)            20512     \n",
      "                                                                 \n",
      " max_pooling1d (MaxPooling1  (None, 10, 32)            0         \n",
      " D)                                                              \n",
      "                                                                 \n",
      " lstm (LSTM)                 (None, 64)                24832     \n",
      "                                                                 \n",
      " flatten (Flatten)           (None, 64)                0         \n",
      "                                                                 \n",
      " dense (Dense)               (None, 32)                2080      \n",
      "                                                                 \n",
      " dense_1 (Dense)             (None, 4)                 132       \n",
      "                                                                 \n",
      "=================================================================\n",
      "Total params: 47556 (185.77 KB)\n",
      "Trainable params: 47556 (185.77 KB)\n",
      "Non-trainable params: 0 (0.00 Byte)\n",
      "_________________________________________________________________\n"
     ]
    }
   ],
   "source": [
    "# Xây dựng mô hình\n",
    "model = Sequential()\n",
    "\n",
    "# Layer Convolutional (CNN)\n",
    "model.add(Conv1D(32, kernel_size=(5), activation='relu', input_shape=(20, 128), padding='same'))\n",
    "model.add(MaxPooling1D(pool_size=(2)))\n",
    "\n",
    "# Layer LSTM\n",
    "model.add(LSTM(64, activation='relu'))\n",
    "\n",
    "# Thêm lớp Flatten để làm phẳng đầu ra của lớp trước khi đi vào các lớp fully connected\n",
    "model.add(Flatten())\n",
    "\n",
    "# Thêm lớp fully connected (Dense Layer) với 64 units và hàm kích hoạt ReLU\n",
    "model.add(Dense(32, activation='relu'))\n",
    "\n",
    "# Lớp Dense (có thể thay đổi theo bài toán cụ thể)\n",
    "model.add(Dense(4, activation='softmax'))\n",
    "\n",
    "# In thông tin mô hình\n",
    "model.summary()"
   ]
  },
  {
   "cell_type": "code",
   "execution_count": 4,
   "id": "e1a769ee-ff61-4861-935d-2e76a6c604ec",
   "metadata": {},
   "outputs": [
    {
     "name": "stdout",
     "output_type": "stream",
     "text": [
      "Epoch 1/10\n",
      "589/589 [==============================] - 6s 7ms/step - loss: 0.4351 - accuracy: 0.8367\n",
      "Epoch 2/10\n",
      "589/589 [==============================] - 5s 8ms/step - loss: 0.2299 - accuracy: 0.9176\n",
      "Epoch 3/10\n",
      "589/589 [==============================] - 4s 7ms/step - loss: 0.1980 - accuracy: 0.9279\n",
      "Epoch 4/10\n",
      "589/589 [==============================] - 4s 7ms/step - loss: 0.1983 - accuracy: 0.9292\n",
      "Epoch 5/10\n",
      "589/589 [==============================] - 4s 7ms/step - loss: 0.1611 - accuracy: 0.9390\n",
      "Epoch 6/10\n",
      "589/589 [==============================] - 4s 7ms/step - loss: 0.1534 - accuracy: 0.9407\n",
      "Epoch 7/10\n",
      "589/589 [==============================] - 4s 7ms/step - loss: 0.1360 - accuracy: 0.9467\n",
      "Epoch 8/10\n",
      "589/589 [==============================] - 4s 6ms/step - loss: 0.1152 - accuracy: 0.9544\n",
      "Epoch 9/10\n",
      "589/589 [==============================] - 4s 7ms/step - loss: 0.1230 - accuracy: 0.9550\n",
      "Epoch 10/10\n",
      "589/589 [==============================] - 4s 6ms/step - loss: 0.1015 - accuracy: 0.9623\n"
     ]
    },
    {
     "data": {
      "text/plain": [
       "<keras.src.callbacks.History at 0x1c9c201fc90>"
      ]
     },
     "execution_count": 4,
     "metadata": {},
     "output_type": "execute_result"
    }
   ],
   "source": [
    "model.compile(optimizer='adam', loss='sparse_categorical_crossentropy', metrics=['accuracy'])\n",
    "model.fit(X_Transfer, y_Transfer, epochs=10, batch_size=16)"
   ]
  },
  {
   "cell_type": "code",
   "execution_count": 5,
   "id": "923926d1-af8d-4389-ba50-8dc9ac0165d8",
   "metadata": {
    "tags": []
   },
   "outputs": [
    {
     "name": "stdout",
     "output_type": "stream",
     "text": [
      "295/295 [==============================] - 2s 5ms/step - loss: 0.0768 - accuracy: 0.9676\n",
      "Độ chính xác trên tập kiểm tra: 0.9676358103752136\n",
      "295/295 [==============================] - 2s 5ms/step\n",
      "Ma trận nhầm lẫn:\n",
      "[[2842    0    0    0]\n",
      " [   0 2011   12   11]\n",
      " [   0   20 2787    1]\n",
      " [   0  253    8 1479]]\n",
      "Báo cáo phân loại:\n",
      "              precision    recall  f1-score   support\n",
      "\n",
      "           0       1.00      1.00      1.00      2842\n",
      "           1       0.88      0.99      0.93      2034\n",
      "           2       0.99      0.99      0.99      2808\n",
      "           3       0.99      0.85      0.92      1740\n",
      "\n",
      "    accuracy                           0.97      9424\n",
      "   macro avg       0.97      0.96      0.96      9424\n",
      "weighted avg       0.97      0.97      0.97      9424\n",
      "\n"
     ]
    }
   ],
   "source": [
    "# Đánh giá mô hình trên tập kiểm tra\n",
    "test_loss, test_accuracy = model.evaluate(X_Transfer_test, y_Transfer_test)\n",
    "print(\"Độ chính xác trên tập kiểm tra:\", test_accuracy)\n",
    "\n",
    "# Dự đoán các nhãn trên tập kiểm tra\n",
    "y_pred = model.predict(X_Transfer_test)\n",
    "\n",
    "# Chuyển đổi dự đoán thành nhãn dự đoán (lớp dự đoán)\n",
    "y_pred_classes = np.argmax(y_pred, axis=1)\n",
    "\n",
    "# Hiển thị ma trận nhầm lẫn\n",
    "from sklearn.metrics import confusion_matrix, classification_report\n",
    "confusion = confusion_matrix(y_Transfer_test, y_pred_classes)\n",
    "print(\"Ma trận nhầm lẫn:\")\n",
    "print(confusion)\n",
    "\n",
    "# Hiển thị báo cáo phân loại\n",
    "class_report = classification_report(y_Transfer_test, y_pred_classes)\n",
    "print(\"Báo cáo phân loại:\")\n",
    "print(class_report)"
   ]
  },
  {
   "cell_type": "code",
   "execution_count": 7,
   "id": "36cea1ac-dc9a-497d-aef1-03055ce8c732",
   "metadata": {
    "tags": []
   },
   "outputs": [
    {
     "name": "stdout",
     "output_type": "stream",
     "text": [
      "Stored 'CNN_LSTM_model' (Sequential)\n"
     ]
    }
   ],
   "source": [
    "CNN_LSTM_model = model\n",
    "%store CNN_LSTM_model"
   ]
  },
  {
   "cell_type": "code",
   "execution_count": null,
   "id": "838d51fa-edee-411f-8b68-1e05c7ba5d8f",
   "metadata": {},
   "outputs": [],
   "source": []
  }
 ],
 "metadata": {
  "kernelspec": {
   "display_name": "Python 3 (ipykernel)",
   "language": "python",
   "name": "python3"
  },
  "language_info": {
   "codemirror_mode": {
    "name": "ipython",
    "version": 3
   },
   "file_extension": ".py",
   "mimetype": "text/x-python",
   "name": "python",
   "nbconvert_exporter": "python",
   "pygments_lexer": "ipython3",
   "version": "3.11.4"
  }
 },
 "nbformat": 4,
 "nbformat_minor": 5
}
